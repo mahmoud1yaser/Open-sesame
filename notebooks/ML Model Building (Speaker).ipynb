{
 "cells": [
  {
   "cell_type": "markdown",
   "id": "7377eb43",
   "metadata": {},
   "source": [
    "# Classic ML Model Building Notebook - Word Modeling"
   ]
  },
  {
   "cell_type": "markdown",
   "id": "ec6445e9",
   "metadata": {},
   "source": [
    "## Import Packages"
   ]
  },
  {
   "cell_type": "code",
   "execution_count": 2,
   "id": "809f1ced",
   "metadata": {},
   "outputs": [],
   "source": [
    "# Audio processing\n",
    "import librosa\n",
    "import librosa.display as ld\n",
    "import IPython.display as ipd\n",
    "# Data cleaning\n",
    "import os\n",
    "import pandas as pd\n",
    "import numpy as np\n",
    "from numpy import mean, var\n",
    "# Data visualization\n",
    "import matplotlib.pyplot as plt\n",
    "# Machine learning\n",
    "import sklearn\n",
    "from sklearn import preprocessing\n",
    "from sklearn.svm import SVC\n",
    "from sklearn.ensemble import RandomForestClassifier\n",
    "from xgboost import XGBClassifier\n",
    "from sklearn.linear_model import LogisticRegression  \n",
    "from sklearn.model_selection import train_test_split, KFold, cross_val_score\n",
    "from sklearn.model_selection import GridSearchCV\n",
    "from sklearn.model_selection import train_test_split\n",
    "from sklearn.model_selection import RandomizedSearchCV\n",
    "from sklearn.metrics import accuracy_score, confusion_matrix\n",
    "from sklearn.decomposition import PCA\n",
    "from sklearn.preprocessing import StandardScaler\n",
    "# Advanced options\n",
    "import warnings\n",
    "from tqdm import tqdm\n",
    "warnings.filterwarnings(\"ignore\")\n",
    "import pickle"
   ]
  },
  {
   "cell_type": "markdown",
   "id": "1e6384c9",
   "metadata": {},
   "source": [
    "--------------"
   ]
  },
  {
   "cell_type": "markdown",
   "id": "fd28b232",
   "metadata": {},
   "source": [
    "------------------"
   ]
  },
  {
   "cell_type": "markdown",
   "id": "c9681c54",
   "metadata": {},
   "source": [
    "## Define Constants"
   ]
  },
  {
   "cell_type": "code",
   "execution_count": 3,
   "id": "df4ace45",
   "metadata": {},
   "outputs": [],
   "source": [
    "FRAMESIZE = 1024\n",
    "HOPLENGTH = 512\n",
    "# 13 mels for fingerprint and more than 20 mels for word detection\n",
    "MELS = 13 \n",
    "SPLITFREQ = 2000\n",
    "PCA_N = 2"
   ]
  },
  {
   "cell_type": "markdown",
   "id": "a72cf8d2",
   "metadata": {},
   "source": [
    "-------------"
   ]
  },
  {
   "cell_type": "markdown",
   "id": "ee365fed",
   "metadata": {},
   "source": [
    "----------"
   ]
  },
  {
   "cell_type": "markdown",
   "id": "6279aeae",
   "metadata": {},
   "source": [
    "## Read Data"
   ]
  },
  {
   "cell_type": "code",
   "execution_count": 4,
   "id": "c9841c9d",
   "metadata": {},
   "outputs": [
    {
     "data": {
      "text/plain": [
       "array([[ 2.74171082e+02, -5.91251709e+02,  1.22773174e+04,\n",
       "         2.78430246e-02,  2.08723382e-03],\n",
       "       [ 3.39712433e+02, -5.96309570e+02,  1.33797646e+04,\n",
       "         3.36477980e-02,  4.33203066e-03],\n",
       "       [ 3.02544525e+02, -5.95602173e+02,  1.16577363e+04,\n",
       "         2.33854018e-02,  1.25041464e-03],\n",
       "       [ 3.45469208e+02, -5.46374390e+02,  9.22018359e+03,\n",
       "         5.19323051e-02,  2.08905824e-02],\n",
       "       [ 3.10062164e+02, -5.86068176e+02,  1.17619922e+04,\n",
       "         2.37353239e-02,  1.03716541e-03],\n",
       "       [ 2.60364441e+02, -5.98186096e+02,  8.15981641e+03,\n",
       "         1.91031303e-02,  7.75156135e-04],\n",
       "       [ 3.07157806e+02, -5.86749390e+02,  1.25159707e+04,\n",
       "         2.56977230e-02,  1.60632515e-03],\n",
       "       [ 3.11788788e+02, -5.93493591e+02,  1.47705400e+04,\n",
       "         2.47365441e-02,  2.15951540e-03],\n",
       "       [ 2.54355682e+02, -6.07461975e+02,  5.96504248e+03,\n",
       "         1.51092345e-02,  6.33152551e-04],\n",
       "       [ 3.46405548e+02, -5.71864380e+02,  1.35127031e+04,\n",
       "         4.25694622e-02,  3.81413219e-03],\n",
       "       [ 3.75603943e+02, -5.89549255e+02,  1.18058594e+04,\n",
       "         3.72912101e-02,  2.85698869e-03],\n",
       "       [ 3.63854889e+02, -5.72107178e+02,  1.28173662e+04,\n",
       "         4.16950434e-02,  3.91303515e-03],\n",
       "       [ 3.75114380e+02, -5.68567200e+02,  1.29096416e+04,\n",
       "         4.16588038e-02,  3.79438116e-03],\n",
       "       [ 4.17570038e+02, -5.60431641e+02,  1.29168955e+04,\n",
       "         5.06011248e-02,  7.40204751e-03],\n",
       "       [ 3.69412445e+02, -5.52354126e+02,  1.30514395e+04,\n",
       "         4.51726951e-02,  4.76740859e-03],\n",
       "       [ 3.31130249e+02, -5.51773560e+02,  1.41240879e+04,\n",
       "         4.93216291e-02,  5.00400225e-03],\n",
       "       [ 3.91770508e+02, -5.73379395e+02,  1.38006953e+04,\n",
       "         3.85951921e-02,  4.29275213e-03],\n",
       "       [ 3.45063568e+02, -5.54102783e+02,  1.21983789e+04,\n",
       "         4.53055538e-02,  4.79502557e-03],\n",
       "       [ 2.16927048e+02, -6.01724792e+02,  6.88936621e+03,\n",
       "         2.45845653e-02,  1.28004246e-03],\n",
       "       [ 2.73841431e+02, -5.81796082e+02,  8.39074121e+03,\n",
       "         3.43710594e-02,  3.13179218e-03],\n",
       "       [ 2.22513184e+02, -6.04279785e+02,  7.28016162e+03,\n",
       "         2.24108025e-02,  1.05708151e-03],\n",
       "       [ 2.64267181e+02, -6.08821899e+02,  8.95779004e+03,\n",
       "         2.31512729e-02,  1.01702218e-03],\n",
       "       [ 2.10458176e+02, -6.41345520e+02,  5.08098242e+03,\n",
       "         1.37644727e-02,  3.90662724e-04],\n",
       "       [ 1.66908463e+02, -6.24978699e+02,  4.06440137e+03,\n",
       "         1.22713102e-02,  3.34335084e-04],\n",
       "       [ 2.30699677e+02, -6.06035278e+02,  7.27378809e+03,\n",
       "         1.98259614e-02,  6.80054189e-04],\n",
       "       [ 2.56742065e+02, -6.02860657e+02,  7.65124414e+03,\n",
       "         2.45739259e-02,  1.33047346e-03],\n",
       "       [ 2.89679932e+02, -5.90969055e+02,  1.09407891e+04,\n",
       "         3.42389010e-02,  2.28397339e-03],\n",
       "       [ 3.73184235e+02, -5.78734680e+02,  1.41457383e+04,\n",
       "         4.36748341e-02,  4.45632217e-03],\n",
       "       [ 2.69956085e+02, -6.12296814e+02,  7.16214062e+03,\n",
       "         2.69891564e-02,  1.66201766e-03],\n",
       "       [ 3.86289581e+02, -5.89950623e+02,  1.42450312e+04,\n",
       "         4.03752215e-02,  4.12783818e-03],\n",
       "       [ 3.51520050e+02, -5.42943481e+02,  1.08217988e+04,\n",
       "         5.40776923e-02,  9.07123275e-03],\n",
       "       [ 3.97634186e+02, -5.73290833e+02,  1.22335195e+04,\n",
       "         4.70633730e-02,  6.01264741e-03],\n",
       "       [ 3.81520447e+02, -5.36716980e+02,  1.14596562e+04,\n",
       "         5.75604215e-02,  9.62736923e-03],\n",
       "       [ 3.44940674e+02, -5.68144165e+02,  1.14973291e+04,\n",
       "         4.27543484e-02,  5.75509435e-03],\n",
       "       [ 3.64159088e+02, -5.76982056e+02,  1.23401055e+04,\n",
       "         4.65048291e-02,  6.15475513e-03],\n",
       "       [ 3.82866943e+02, -5.51205261e+02,  1.01237461e+04,\n",
       "         4.87340875e-02,  7.58599816e-03],\n",
       "       [ 3.97094940e+02, -5.67705627e+02,  1.34825674e+04,\n",
       "         4.92276140e-02,  7.28443358e-03],\n",
       "       [ 3.59554962e+02, -5.77591187e+02,  1.05661592e+04,\n",
       "         3.87079045e-02,  4.44790814e-03],\n",
       "       [ 4.00009338e+02, -5.78361023e+02,  1.00144121e+04,\n",
       "         3.62736285e-02,  3.57956998e-03],\n",
       "       [ 3.89820404e+02, -5.75636047e+02,  1.27853496e+04,\n",
       "         4.17263918e-02,  4.96164337e-03],\n",
       "       [ 3.50085510e+02, -5.77806213e+02,  1.12454658e+04,\n",
       "         4.10722792e-02,  4.82480507e-03],\n",
       "       [ 3.68565765e+02, -6.00087830e+02,  1.18453545e+04,\n",
       "         3.47828455e-02,  3.49140563e-03],\n",
       "       [ 4.72402130e+02, -5.07754822e+02,  1.78852383e+04,\n",
       "         8.72283429e-02,  1.96641386e-02],\n",
       "       [ 9.06186890e+02, -4.30986877e+02,  2.27867949e+04,\n",
       "         1.74099475e-01,  6.44340888e-02],\n",
       "       [ 8.94886536e+02, -4.36335754e+02,  2.86746641e+04,\n",
       "         1.42327249e-01,  4.49980460e-02],\n",
       "       [ 8.19640259e+02, -4.43157135e+02,  2.56646504e+04,\n",
       "         1.21378019e-01,  3.36246714e-02],\n",
       "       [ 9.45052734e+02, -4.28554871e+02,  2.82402383e+04,\n",
       "         1.30816907e-01,  2.84153465e-02],\n",
       "       [ 9.65542786e+02, -4.68640259e+02,  3.05280801e+04,\n",
       "         1.30350977e-01,  4.55915369e-02],\n",
       "       [ 9.21538696e+02, -4.14165741e+02,  2.89579199e+04,\n",
       "         1.40673041e-01,  4.51013260e-02],\n",
       "       [ 1.01168164e+03, -5.07307495e+02,  2.15423027e+04,\n",
       "         9.74992812e-02,  1.41732078e-02],\n",
       "       [ 8.78933167e+02, -4.67272858e+02,  2.46653672e+04,\n",
       "         1.25428051e-01,  4.98736687e-02],\n",
       "       [ 7.99659424e+02, -5.28160278e+02,  1.86156035e+04,\n",
       "         7.57151321e-02,  1.36395618e-02],\n",
       "       [ 7.86890503e+02, -4.61683685e+02,  2.09329414e+04,\n",
       "         1.15213789e-01,  4.43615876e-02],\n",
       "       [ 7.98212769e+02, -5.23284912e+02,  1.72076152e+04,\n",
       "         7.58638009e-02,  8.37321114e-03],\n",
       "       [ 8.24486877e+02, -4.90574188e+02,  2.02196816e+04,\n",
       "         1.03348419e-01,  4.28767614e-02],\n",
       "       [ 9.94663818e+02, -5.76597717e+02,  1.88926055e+04,\n",
       "         5.81008233e-02,  8.76790471e-03],\n",
       "       [ 7.96958130e+02, -4.35021973e+02,  2.12320000e+04,\n",
       "         1.34760141e-01,  5.50472513e-02],\n",
       "       [ 8.85469910e+02, -5.75826782e+02,  1.91503945e+04,\n",
       "         4.89909574e-02,  5.18721808e-03],\n",
       "       [ 9.71200745e+02, -5.99752319e+02,  1.49167383e+04,\n",
       "         4.44176085e-02,  3.75579530e-03],\n",
       "       [ 9.77364746e+02, -6.46899414e+02,  1.50676377e+04,\n",
       "         2.53735930e-02,  1.62600796e-03],\n",
       "       [ 7.80123169e+02, -6.04460205e+02,  1.59532080e+04,\n",
       "         3.23515087e-02,  1.86505402e-03],\n",
       "       [ 1.08309395e+02, -5.37378052e+02,  9.06271289e+03,\n",
       "         1.39728570e-02,  2.49728124e-04],\n",
       "       [ 1.09755661e+02, -6.39101440e+02,  5.60974902e+03,\n",
       "         3.43951583e-03,  2.14487281e-05],\n",
       "       [ 8.23347778e+01, -6.42037537e+02,  4.48722070e+03,\n",
       "         2.68160063e-03,  1.36828767e-05],\n",
       "       [ 8.86138229e+01, -6.38654419e+02,  4.41989648e+03,\n",
       "         2.84424005e-03,  1.38337009e-05],\n",
       "       [ 6.45952682e+01, -6.35458984e+02,  4.07285400e+03,\n",
       "         2.83994200e-03,  1.00864154e-05],\n",
       "       [ 6.82469635e+01, -6.39861816e+02,  4.21337012e+03,\n",
       "         2.48982641e-03,  7.73917236e-06],\n",
       "       [ 8.21000137e+01, -6.45219482e+02,  6.06546777e+03,\n",
       "         2.43038405e-03,  8.34822731e-06],\n",
       "       [ 8.80878983e+01, -6.33998596e+02,  3.88357544e+03,\n",
       "         3.51724797e-03,  4.38411698e-05],\n",
       "       [ 3.19056396e+02, -5.76212524e+02,  9.04971094e+03,\n",
       "         3.01747750e-02,  2.33502919e-03],\n",
       "       [ 3.23104095e+02, -5.97045959e+02,  1.47992529e+04,\n",
       "         2.82658152e-02,  2.02036579e-03],\n",
       "       [ 2.88908600e+02, -5.78372070e+02,  9.92350488e+03,\n",
       "         2.85469890e-02,  1.68720714e-03],\n",
       "       [ 2.77085236e+02, -5.98173279e+02,  1.03267109e+04,\n",
       "         2.56319419e-02,  1.68593880e-03],\n",
       "       [ 3.61520477e+02, -5.59761597e+02,  1.44621543e+04,\n",
       "         5.22695892e-02,  9.09200776e-03],\n",
       "       [ 3.14585205e+02, -5.86736328e+02,  1.23216680e+04,\n",
       "         3.50643843e-02,  3.89321102e-03],\n",
       "       [ 2.73262299e+02, -6.05811462e+02,  9.57166309e+03,\n",
       "         2.54721045e-02,  2.22647423e-03],\n",
       "       [ 2.25940170e+02, -6.14372314e+02,  5.58641602e+03,\n",
       "         2.14290321e-02,  1.18935702e-03],\n",
       "       [ 2.22934647e+02, -6.04782166e+02,  6.28443506e+03,\n",
       "         2.53687222e-02,  1.82690914e-03],\n",
       "       [ 1.99294952e+02, -6.14900513e+02,  4.72127441e+03,\n",
       "         2.27440447e-02,  1.65408268e-03],\n",
       "       [ 3.24111267e+02, -5.83144653e+02,  1.15764072e+04,\n",
       "         3.08601260e-02,  2.35442724e-03],\n",
       "       [ 3.15761719e+02, -5.91169373e+02,  1.09749121e+04,\n",
       "         2.99597736e-02,  3.25087667e-03],\n",
       "       [ 2.67282776e+02, -5.94623596e+02,  9.85841113e+03,\n",
       "         2.72247959e-02,  2.43156729e-03],\n",
       "       [ 3.09095886e+02, -5.82722900e+02,  1.10472930e+04,\n",
       "         3.03797834e-02,  2.85234023e-03],\n",
       "       [ 3.48088470e+02, -5.74940796e+02,  9.62443945e+03,\n",
       "         3.40232328e-02,  3.82262329e-03],\n",
       "       [ 3.52677521e+02, -6.09773010e+02,  1.26523057e+04,\n",
       "         2.37399098e-02,  1.42711855e-03],\n",
       "       [ 3.12033997e+02, -5.93766479e+02,  7.66892041e+03,\n",
       "         2.89554372e-02,  1.91001652e-03],\n",
       "       [ 3.23956726e+02, -6.07128967e+02,  1.04484766e+04,\n",
       "         2.43856143e-02,  1.39214715e-03],\n",
       "       [ 3.75807739e+02, -6.02619812e+02,  1.18220039e+04,\n",
       "         2.96620373e-02,  2.33737100e-03],\n",
       "       [ 4.28450378e+02, -6.04230957e+02,  1.45020957e+04,\n",
       "         4.23891731e-02,  5.07597718e-03],\n",
       "       [ 3.83455811e+02, -5.74044006e+02,  1.33953076e+04,\n",
       "         3.95469032e-02,  2.51244800e-03],\n",
       "       [ 3.27953094e+02, -5.79276672e+02,  1.05738730e+04,\n",
       "         3.05168182e-02,  1.65043492e-03],\n",
       "       [ 3.50047180e+02, -5.77807312e+02,  1.20077080e+04,\n",
       "         3.55322920e-02,  2.30926392e-03],\n",
       "       [ 3.84248749e+02, -5.80494263e+02,  1.37631543e+04,\n",
       "         3.79700959e-02,  2.47336412e-03],\n",
       "       [ 2.48019501e+02, -6.07644104e+02,  6.57048096e+03,\n",
       "         2.37104837e-02,  1.03914447e-03],\n",
       "       [ 2.95868500e+02, -6.09494141e+02,  6.66606836e+03,\n",
       "         2.49825027e-02,  1.21472718e-03],\n",
       "       [ 2.86793549e+02, -6.16410461e+02,  9.00194043e+03,\n",
       "         2.72629000e-02,  1.56873488e-03],\n",
       "       [ 4.04350098e+02, -5.96835449e+02,  1.38509746e+04,\n",
       "         4.36306894e-02,  5.92031190e-03],\n",
       "       [ 3.14899933e+02, -5.99285339e+02,  9.28952930e+03,\n",
       "         3.19793671e-02,  3.08298948e-03],\n",
       "       [ 3.92246460e+02, -5.93382019e+02,  1.14674717e+04,\n",
       "         3.83131020e-02,  4.35320847e-03],\n",
       "       [ 3.73419556e+02, -5.94748413e+02,  1.24348643e+04,\n",
       "         3.61886732e-02,  3.95095116e-03],\n",
       "       [ 3.73202393e+02, -5.99534485e+02,  1.41548174e+04,\n",
       "         3.78784835e-02,  4.12590709e-03],\n",
       "       [ 3.78065796e+02, -5.76513489e+02,  1.46720576e+04,\n",
       "         5.13746813e-02,  7.49627268e-03],\n",
       "       [ 3.67931610e+02, -5.59297424e+02,  1.00588730e+04,\n",
       "         3.78490686e-02,  3.31766508e-03],\n",
       "       [ 2.81993042e+02, -5.95736450e+02,  8.14256006e+03,\n",
       "         2.54457761e-02,  1.53023703e-03],\n",
       "       [ 2.79358490e+02, -5.95538696e+02,  1.20598271e+04,\n",
       "         2.52068974e-02,  1.59896526e-03],\n",
       "       [ 3.41640869e+02, -5.57878052e+02,  1.67995137e+04,\n",
       "         4.47479337e-02,  6.24474511e-03],\n",
       "       [ 3.56924805e+02, -5.65904114e+02,  1.62000605e+04,\n",
       "         4.66075428e-02,  4.91506094e-03],\n",
       "       [ 2.94514252e+02, -5.76823059e+02,  1.43331162e+04,\n",
       "         3.71943265e-02,  3.62004945e-03],\n",
       "       [ 2.26135590e+02, -6.07338806e+02,  8.57186230e+03,\n",
       "         2.33689509e-02,  1.38708309e-03],\n",
       "       [ 2.34479324e+02, -6.01178345e+02,  7.19868750e+03,\n",
       "         2.61811707e-02,  1.41593954e-03],\n",
       "       [ 2.49134842e+02, -5.81987122e+02,  1.00928105e+04,\n",
       "         3.29752229e-02,  2.68693315e-03],\n",
       "       [ 2.30804916e+02, -5.80651855e+02,  7.98849561e+03,\n",
       "         3.31683829e-02,  2.23572110e-03],\n",
       "       [ 2.11288147e+02, -6.00609863e+02,  7.06902490e+03,\n",
       "         2.40727793e-02,  1.49892177e-03],\n",
       "       [ 3.84680206e+02, -5.68336792e+02,  1.37842422e+04,\n",
       "         4.76513542e-02,  5.68175921e-03],\n",
       "       [ 3.82270691e+02, -5.92769653e+02,  1.40419062e+04,\n",
       "         3.97482328e-02,  4.21313103e-03]])"
      ]
     },
     "execution_count": 4,
     "metadata": {},
     "output_type": "execute_result"
    }
   ],
   "source": [
    "df_small_chunk = pd.read_csv('A:\\OpenSesame\\data\\\\small_chunk_speaker.csv')\n",
    "df_big_chunk = pd.read_csv('A:\\OpenSesame\\data\\\\big_chunk_speaker.csv')\n",
    "\n",
    "xs_features = np.array(df_small_chunk.iloc[:,:])\n",
    "xb_features = np.array(df_big_chunk.iloc[:,:])\n",
    "xs_features"
   ]
  },
  {
   "cell_type": "code",
   "execution_count": 5,
   "id": "3e404534",
   "metadata": {},
   "outputs": [],
   "source": [
    "y_features = pd.read_csv('A:\\OpenSesame\\data\\\\target_data_speaker.csv')\n",
    "y_features = np.array(y_features.iloc[:,:])"
   ]
  },
  {
   "cell_type": "code",
   "execution_count": 6,
   "id": "11713861",
   "metadata": {},
   "outputs": [
    {
     "data": {
      "text/plain": [
       "['feature 1', 'feature 2', 'feature 3', 'feature 6', 'feature 7']"
      ]
     },
     "execution_count": 6,
     "metadata": {},
     "output_type": "execute_result"
    }
   ],
   "source": [
    "best_features_small = list(np.loadtxt(open('A:\\OpenSesame\\data\\\\speaker_features_small.csv'), delimiter=\",\", dtype='str'))\n",
    "best_features_big = list(np.loadtxt(open('A:\\OpenSesame\\data\\\\speaker_features_big.csv'), delimiter=\",\", dtype='str'))\n",
    "best_features_small"
   ]
  },
  {
   "cell_type": "code",
   "execution_count": 7,
   "id": "99c08b67",
   "metadata": {},
   "outputs": [
    {
     "data": {
      "text/plain": [
       "(115, 5)"
      ]
     },
     "execution_count": 7,
     "metadata": {},
     "output_type": "execute_result"
    }
   ],
   "source": [
    "xb_features.shape"
   ]
  },
  {
   "cell_type": "markdown",
   "id": "6419ddb8",
   "metadata": {},
   "source": [
    "------"
   ]
  },
  {
   "cell_type": "markdown",
   "id": "c1ff4ff3",
   "metadata": {},
   "source": [
    "-----------"
   ]
  },
  {
   "cell_type": "markdown",
   "id": "2f2745f9",
   "metadata": {},
   "source": [
    "## Data Modeling"
   ]
  },
  {
   "cell_type": "markdown",
   "id": "cdc45d36",
   "metadata": {},
   "source": [
    "- We will model the data with those five classifiers:\n",
    "    - Logistic Regression\n",
    "    - XGBoost\n",
    "    - SVM\n",
    "    - Random Forest \n",
    "- And we will model the Big-Chunk-Data vs Small-Chunk-Data and compare between them."
   ]
  },
  {
   "cell_type": "markdown",
   "id": "dfd035e5",
   "metadata": {},
   "source": [
    "### Hyperparameters Tuning"
   ]
  },
  {
   "cell_type": "code",
   "execution_count": 8,
   "id": "6e336261",
   "metadata": {},
   "outputs": [],
   "source": [
    "xs_train, xs_test, y_train, y_test = train_test_split(xs_features, y_features, test_size=0.3)\n",
    "xb_train, xb_test, y_train, y_test = train_test_split(xb_features, y_features, test_size=0.3)"
   ]
  },
  {
   "cell_type": "markdown",
   "id": "70a1b68d",
   "metadata": {},
   "source": [
    "1- Logistic Regression"
   ]
  },
  {
   "cell_type": "code",
   "execution_count": 8,
   "id": "73625829",
   "metadata": {},
   "outputs": [],
   "source": [
    "# # Small chunk \n",
    "# LR = LogisticRegression()\n",
    "# LRparam_grid = {\n",
    "#     'C': [0.001, 0.01, 0.1, 1, 10, 100, 1000],\n",
    "#     'penalty': ['l1', 'l2'],\n",
    "#     # 'max_iter': list(range(100,800,100)),\n",
    "#     'solver': ['newton-cg', 'lbfgs', 'liblinear', 'sag', 'saga']\n",
    "# }\n",
    "# LR_search = GridSearchCV(LR, param_grid=LRparam_grid, refit = True, verbose = 3, cv=5)\n",
    "\n",
    "# # fitting the model for grid search \n",
    "# LR_search.fit(xs_train , y_train)\n",
    "# LR_search.best_params_\n",
    "# # summarize\n",
    "# print('Mean Accuracy: %.3f' % LR_search.best_score_)\n",
    "# print('Config: %s' % LR_search.best_params_)"
   ]
  },
  {
   "cell_type": "code",
   "execution_count": 9,
   "id": "27777e6d",
   "metadata": {},
   "outputs": [],
   "source": [
    "# # Big chunk \n",
    "# LR = LogisticRegression()\n",
    "# LRparam_grid = {\n",
    "#     'C': [0.001, 0.01, 0.1, 1, 10, 100, 1000],\n",
    "#     'penalty': ['l1', 'l2'],\n",
    "#     # 'max_iter': list(range(100,800,100)),\n",
    "#     'solver': ['newton-cg', 'lbfgs', 'liblinear', 'sag', 'saga']\n",
    "# }\n",
    "# LR_search = GridSearchCV(LR, param_grid=LRparam_grid, refit = True, verbose = 3, cv=5)\n",
    "\n",
    "# # fitting the model for grid search \n",
    "# LR_search.fit(xb_train , y_train)\n",
    "# LR_search.best_params_\n",
    "# # summarize\n",
    "# print('Mean Accuracy: %.3f' % LR_search.best_score_)\n",
    "# print('Config: %s' % LR_search.best_params_)"
   ]
  },
  {
   "cell_type": "markdown",
   "id": "1bcc79e7",
   "metadata": {},
   "source": [
    "- LR Hyperparameters:\n",
    "    - Small-chunk {'C': 1000, 'penalty': 'l1', 'solver': 'liblinear'}\n",
    "    - Big-chunk {'C': 100, 'penalty': 'l1', 'solver': 'liblinear'}"
   ]
  },
  {
   "cell_type": "markdown",
   "id": "83958b68",
   "metadata": {},
   "source": [
    "-----"
   ]
  },
  {
   "cell_type": "markdown",
   "id": "430bb7c3",
   "metadata": {},
   "source": [
    "2- XGBoost"
   ]
  },
  {
   "cell_type": "code",
   "execution_count": 10,
   "id": "fa28e113",
   "metadata": {},
   "outputs": [],
   "source": [
    "# # Small chunk\n",
    "# def random_search_tuning():\n",
    "#     # define the train set and test set\n",
    "#     x_train, x_val, y_train, y_val = train_test_split(xs_features, y_features, test_size=0.05)\n",
    "#     print(\"Shapes - X_train: \", x_train.shape,\n",
    "#           \", X_val: \", x_val.shape, \", y_train: \",\n",
    "#           y_train.shape, \", y_val: \", y_val.shape)\n",
    "\n",
    "#     params = {'max_depth': [3, 6, 10, 15],\n",
    "#               'learning_rate': [0.01, 0.1, 0.2, 0.3, 0.4],\n",
    "#               'subsample': np.arange(0.5, 1.0, 0.1),\n",
    "#               'colsample_bytree': np.arange(0.5, 1.0, 0.1),\n",
    "#               'colsample_bylevel': np.arange(0.5, 1.0, 0.1),\n",
    "#               'n_estimators': [100, 250, 500, 750],\n",
    "#               'num_class': [10]\n",
    "#               }\n",
    "\n",
    "#     xgbclf = XGBClassifier(objective=\"multi:softmax\", tree_method='hist', random_state=0)\n",
    "#     clf = RandomizedSearchCV(estimator=xgbclf,\n",
    "#                              param_distributions=params,\n",
    "#                              scoring='accuracy',\n",
    "#                              n_iter=25,\n",
    "#                              n_jobs=4,\n",
    "#                              verbose=1)\n",
    "\n",
    "#     clf.fit(x_train, y_train)\n",
    "\n",
    "#     best_combination = clf.best_params_\n",
    "\n",
    "#     return best_combination\n",
    "\n",
    "\n",
    "# best_params = random_search_tuning()\n",
    "# print(\"Best hyperparameter combination: \", best_params)"
   ]
  },
  {
   "cell_type": "code",
   "execution_count": 11,
   "id": "5e474822",
   "metadata": {},
   "outputs": [],
   "source": [
    "# # Big chunk\n",
    "# def random_search_tuning():\n",
    "#     # define the train set and test set\n",
    "#     x_train, x_val, y_train, y_val = train_test_split(xb_features, y_features, test_size=0.05)\n",
    "#     print(\"Shapes - X_train: \", x_train.shape,\n",
    "#           \", X_val: \", x_val.shape, \", y_train: \",\n",
    "#           y_train.shape, \", y_val: \", y_val.shape)\n",
    "\n",
    "#     params = {'max_depth': [3, 6, 10, 15],\n",
    "#               'learning_rate': [0.01, 0.1, 0.2, 0.3, 0.4],\n",
    "#               'subsample': np.arange(0.5, 1.0, 0.1),\n",
    "#               'colsample_bytree': np.arange(0.5, 1.0, 0.1),\n",
    "#               'colsample_bylevel': np.arange(0.5, 1.0, 0.1),\n",
    "#               'n_estimators': [100, 250, 500, 750],\n",
    "#               'num_class': [10]\n",
    "#               }\n",
    "\n",
    "#     xgbclf = XGBClassifier(objective=\"multi:softmax\", tree_method='hist', random_state=0)\n",
    "#     clf = RandomizedSearchCV(estimator=xgbclf,\n",
    "#                              param_distributions=params,\n",
    "#                              scoring='accuracy',\n",
    "#                              n_iter=25,\n",
    "#                              n_jobs=4,\n",
    "#                              verbose=1)\n",
    "\n",
    "#     clf.fit(x_train, y_train)\n",
    "\n",
    "#     best_combination = clf.best_params_\n",
    "\n",
    "#     return best_combination\n",
    "\n",
    "\n",
    "# best_params = random_search_tuning()\n",
    "# print(\"Best hyperparameter combination: \", best_params)"
   ]
  },
  {
   "cell_type": "markdown",
   "id": "cdfc8a79",
   "metadata": {},
   "source": [
    "- XGBoost Hyperparameters:\n",
    "    - Small chunk {'subsample': 0.7999999999999999, 'num_class': 10, 'n_estimators': 500, 'max_depth': 10, 'learning_rate': 0.3, 'colsample_bytree': 0.7999999999999999, 'colsample_bylevel': 0.7}\n",
    "    - Big chunk {'subsample': 0.7999999999999999, 'num_class': 10, 'n_estimators': 100, 'max_depth': 15, 'learning_rate': 0.01, 'colsample_bytree': 0.6, 'colsample_bylevel': 0.5}"
   ]
  },
  {
   "cell_type": "markdown",
   "id": "3d6b03b5",
   "metadata": {},
   "source": [
    "---------"
   ]
  },
  {
   "cell_type": "markdown",
   "id": "9628c6f5",
   "metadata": {},
   "source": [
    "3- SVM"
   ]
  },
  {
   "cell_type": "code",
   "execution_count": 12,
   "id": "ae147cfe",
   "metadata": {},
   "outputs": [],
   "source": [
    "# # Small-chunk\n",
    "# parameters = {\n",
    "#     \"kernel\": [\"linear\",\"rbf\"],\n",
    "#     \"C\":[0.1,1,10]\n",
    "# }\n",
    "\n",
    "# svm = SVC()\n",
    "# cv = GridSearchCV(svm,parameters,cv=5)\n",
    "# cv.fit(xs_features,y_features) \n",
    "\n",
    "# def display(results):\n",
    "#     print(f'Best parameters are: {results.best_params_}')\n",
    "#     mean_score = results.cv_results_['mean_test_score']\n",
    "#     std_score = results.cv_results_['std_test_score']\n",
    "#     params = results.cv_results_['params']\n",
    "#     for mean,std,params in tqdm(zip(mean_score,std_score,params)):\n",
    "#         print(f'{round(mean,2)} + or -{round(std,2)} for the {params}')\n",
    "\n",
    "# display(cv)"
   ]
  },
  {
   "cell_type": "code",
   "execution_count": 13,
   "id": "7cd471e7",
   "metadata": {
    "scrolled": true
   },
   "outputs": [],
   "source": [
    "# # Big-chunk\n",
    "# parameters = {\n",
    "#     \"kernel\": [\"linear\",\"rbf\"],\n",
    "#     \"C\":[0.1,1,10]\n",
    "# }\n",
    "\n",
    "# svm = SVC()\n",
    "# cv = GridSearchCV(svm,parameters,cv=5)\n",
    "# cv.fit(xb_features,y_features) \n",
    "\n",
    "# def display(results):\n",
    "#     print(f'Best parameters are: {results.best_params_}')\n",
    "#     mean_score = results.cv_results_['mean_test_score']\n",
    "#     std_score = results.cv_results_['std_test_score']\n",
    "#     params = results.cv_results_['params']\n",
    "#     for mean,std,params in tqdm(zip(mean_score,std_score,params)):\n",
    "#         print(f'{round(mean,2)} + or -{round(std,2)} for the {params}')\n",
    "\n",
    "# display(cv)"
   ]
  },
  {
   "cell_type": "markdown",
   "id": "a16c2c56",
   "metadata": {},
   "source": [
    "- SVM hyperparameters\n",
    "    - Small chunk {'C': 0.1, 'kernel': 'linear'}\n",
    "    - Big chunk {'C': 1, 'kernel': 'linear'}"
   ]
  },
  {
   "cell_type": "markdown",
   "id": "55bf8831",
   "metadata": {},
   "source": [
    "-----"
   ]
  },
  {
   "cell_type": "markdown",
   "id": "c2ac673e",
   "metadata": {},
   "source": [
    "4- Random Forest"
   ]
  },
  {
   "cell_type": "code",
   "execution_count": 14,
   "id": "63848e49",
   "metadata": {},
   "outputs": [],
   "source": [
    "# # Small-chunk\n",
    "# # Number of trees in random forest\n",
    "# n_estimators = [int(x) for x in range(200,2000,200)]\n",
    "# # Number of features to consider at every split\n",
    "# max_features = ['auto', 'sqrt']\n",
    "# # Maximum number of levels in tree\n",
    "# max_depth = [int(x) for x in np.linspace(10, 110, num = 11)]\n",
    "# max_depth.append(None)\n",
    "# # Minimum number of samples required to split a node\n",
    "# min_samples_split = [2, 5, 10]\n",
    "# # Minimum number of samples required at each leaf node\n",
    "# min_samples_leaf = [1, 2, 4]\n",
    "# # Method of selecting samples for training each tree\n",
    "# bootstrap = [True, False]\n",
    "# # Create the random grid\n",
    "# random_grid = {'n_estimators': n_estimators,\n",
    "#                'max_features': max_features,\n",
    "#                'max_depth': max_depth,\n",
    "#                'min_samples_split': min_samples_split,\n",
    "#                'min_samples_leaf': min_samples_leaf,\n",
    "#                'bootstrap': bootstrap}\n",
    "\n",
    "# # Use the random grid to search for best hyperparameters\n",
    "# # First create the base model to tune\n",
    "# rf = RandomForestClassifier()\n",
    "# # Random search of parameters, using 3 fold cross validation, \n",
    "# # search across 100 different combinations, and use all available cores\n",
    "# rf_random = RandomizedSearchCV(estimator = rf, param_distributions = random_grid, n_iter = 100, cv = 3, verbose=2, random_state=42, n_jobs = -1)\n",
    "# # Fit the random search model\n",
    "# rf_random.fit(xs_train, y_train)\n",
    "\n",
    "\n",
    "# def evaluate(model, test_features, test_labels):\n",
    "#     y_pred = model.predict(test_features)\n",
    "#     accuracy = accuracy_score(y_test, y_pred)\n",
    "#     print (accuracy)\n",
    "#     print(confusion_matrix(y_test,y_pred))\n",
    "    \n",
    "\n",
    "# best_random = rf_random.best_estimator_\n",
    "# evaluate(best_random, xs_test, y_test)\n",
    "\n",
    "# print(rf_random.best_params_)"
   ]
  },
  {
   "cell_type": "code",
   "execution_count": 15,
   "id": "3117002f",
   "metadata": {},
   "outputs": [],
   "source": [
    "# # Big-chunk\n",
    "# # Number of trees in random forest\n",
    "# n_estimators = [int(x) for x in range(200,2000,200)]\n",
    "# # Number of features to consider at every split\n",
    "# max_features = ['auto', 'sqrt']\n",
    "# # Maximum number of levels in tree\n",
    "# max_depth = [int(x) for x in np.linspace(10, 110, num = 11)]\n",
    "# max_depth.append(None)\n",
    "# # Minimum number of samples required to split a node\n",
    "# min_samples_split = [2, 5, 10]\n",
    "# # Minimum number of samples required at each leaf node\n",
    "# min_samples_leaf = [1, 2, 4]\n",
    "# # Method of selecting samples for training each tree\n",
    "# bootstrap = [True, False]\n",
    "# # Create the random grid\n",
    "# random_grid = {'n_estimators': n_estimators,\n",
    "#                'max_features': max_features,\n",
    "#                'max_depth': max_depth,\n",
    "#                'min_samples_split': min_samples_split,\n",
    "#                'min_samples_leaf': min_samples_leaf,\n",
    "#                'bootstrap': bootstrap}\n",
    "\n",
    "# # Use the random grid to search for best hyperparameters\n",
    "# # First create the base model to tune\n",
    "# rf = RandomForestClassifier()\n",
    "# # Random search of parameters, using 3 fold cross validation, \n",
    "# # search across 100 different combinations, and use all available cores\n",
    "# rf_random = RandomizedSearchCV(estimator = rf, param_distributions = random_grid, n_iter = 100, cv = 3, verbose=2, random_state=42, n_jobs = -1)\n",
    "# # Fit the random search model\n",
    "# rf_random.fit(xb_train, y_train)\n",
    "\n",
    "\n",
    "# def evaluate(model, test_features, test_labels):\n",
    "#     y_pred = model.predict(test_features)\n",
    "#     accuracy = accuracy_score(y_test, y_pred)\n",
    "#     print (accuracy)\n",
    "#     print(confusion_matrix(y_test,y_pred))\n",
    "    \n",
    "\n",
    "# best_random = rf_random.best_estimator_\n",
    "# evaluate(best_random, xb_test, y_test)\n",
    "\n",
    "# print(rf_random.best_params_)"
   ]
  },
  {
   "cell_type": "markdown",
   "id": "cbdd5bbc",
   "metadata": {},
   "source": [
    "- Random Forest Hyperparameters\n",
    "    - Small chunk {'n_estimators': 1800, 'min_samples_split': 10, 'min_samples_leaf': 4, 'max_features': 'sqrt', 'max_depth': 30, 'bootstrap': False}\n",
    "    - Big chunk {'n_estimators': 400, 'min_samples_split': 10, 'min_samples_leaf': 4, 'max_features': 'sqrt', 'max_depth': 50, 'bootstrap': True}"
   ]
  },
  {
   "cell_type": "markdown",
   "id": "00a96bc5",
   "metadata": {},
   "source": [
    "--------------"
   ]
  },
  {
   "cell_type": "markdown",
   "id": "ea905d05",
   "metadata": {},
   "source": [
    "### Model Selection"
   ]
  },
  {
   "cell_type": "code",
   "execution_count": 16,
   "id": "71dba2fb",
   "metadata": {},
   "outputs": [],
   "source": [
    "def train_model(model, x_features, y_features, pca='yes', chunk='small'):\n",
    "    \n",
    "    x_train, x_test, y_train, y_test = train_test_split(x_features, y_features, test_size=0.3)\n",
    "    sc = StandardScaler()\n",
    "    pca = PCA(n_components = PCA_N)\n",
    "    \n",
    "    x_train = sc.fit_transform(x_train)\n",
    "    x_test = sc.transform(x_test)\n",
    "    \n",
    "    if pca == 'yes':\n",
    "        x_train = pca.fit_transform(x_train)\n",
    "        x_features = pca.fit_transform(x_features)\n",
    "        x_test = pca.transform(x_test)\n",
    "    \n",
    "    model.fit(x_train, y_train.ravel())\n",
    "    y_pred = model.predict(x_test)\n",
    "    \n",
    "    cm = confusion_matrix(y_test, y_pred)\n",
    "    accuracy = accuracy_score(y_test, model.predict(x_test))\n",
    "    score = cross_val_score(model, x_features, y_features, cv=KFold(n_splits=15))\n",
    "        \n",
    "    print(f'Model Accuracy = {accuracy}\\n Confusion Matrix = {cm} \\n Avg Cross Validation Score = {score.mean()}')\n",
    "    \n",
    "    return model"
   ]
  },
  {
   "cell_type": "markdown",
   "id": "aedda552",
   "metadata": {},
   "source": [
    "#### Small Chunk Data"
   ]
  },
  {
   "cell_type": "code",
   "execution_count": 17,
   "id": "dc44a2f8",
   "metadata": {},
   "outputs": [],
   "source": [
    "lrs = LogisticRegression(random_state = 0, C = 1000, penalty = 'l1', solver = 'liblinear')\n",
    "xgbs = XGBClassifier(objective=\"multi:softmax\", tree_method='hist', random_state=0, subsample = 0.7999999999999999, num_class = 10, n_estimators = 500, max_depth = 10, learning_rate = 0.3, colsample_bytree = 0.7999999999999999, colsample_bylevel = 0.7)\n",
    "svms = SVC(C=0.1, kernel='linear', random_state = 0)\n",
    "rfs = RandomForestClassifier(random_state = 0, n_estimators=1800, min_samples_split=10, min_samples_leaf=4, max_features='sqrt', max_depth=30, bootstrap=False)"
   ]
  },
  {
   "cell_type": "code",
   "execution_count": 18,
   "id": "f1fbd885",
   "metadata": {},
   "outputs": [
    {
     "name": "stdout",
     "output_type": "stream",
     "text": [
      "Logistic Regression without PCA \n",
      "\n",
      "Model Accuracy = 0.4857142857142857\n",
      " Confusion Matrix = [[3 1 1 0 0]\n",
      " [4 2 0 2 0]\n",
      " [3 0 4 0 3]\n",
      " [0 0 1 2 1]\n",
      " [1 0 1 0 6]] \n",
      " Avg Cross Validation Score = 0.5321428571428571\n",
      "\n",
      "\n",
      "Logistic Regression with PCA \n",
      "\n",
      "Model Accuracy = 0.6571428571428571\n",
      " Confusion Matrix = [[5 1 2 1 0]\n",
      " [1 3 1 0 1]\n",
      " [0 3 4 0 0]\n",
      " [0 0 1 6 0]\n",
      " [0 1 0 0 5]] \n",
      " Avg Cross Validation Score = 0.5321428571428571\n"
     ]
    }
   ],
   "source": [
    "# without PCA\n",
    "print(f\"Logistic Regression without PCA \\n\")\n",
    "lr_s = train_model(lrs, xs_features, y_features)\n",
    "     \n",
    "print('\\n')\n",
    "# with PCA\n",
    "print(f\"Logistic Regression with PCA \\n\")\n",
    "lr_s = train_model(lrs, xs_features, y_features, pca='yes')"
   ]
  },
  {
   "cell_type": "code",
   "execution_count": 19,
   "id": "d97c9817",
   "metadata": {},
   "outputs": [
    {
     "data": {
      "text/plain": [
       "(115, 1)"
      ]
     },
     "execution_count": 19,
     "metadata": {},
     "output_type": "execute_result"
    }
   ],
   "source": [
    "y_features.shape"
   ]
  },
  {
   "cell_type": "code",
   "execution_count": 20,
   "id": "1984c90b",
   "metadata": {},
   "outputs": [
    {
     "name": "stdout",
     "output_type": "stream",
     "text": [
      "XGBoost without PCA \n",
      "\n",
      "Model Accuracy = 0.7714285714285715\n",
      " Confusion Matrix = [[8 0 0 0 0]\n",
      " [0 3 1 0 0]\n",
      " [0 2 9 0 0]\n",
      " [1 0 4 4 0]\n",
      " [0 0 0 0 3]] \n",
      " Avg Cross Validation Score = 0.6761904761904761\n",
      "\n",
      "\n",
      "XGBoost with PCA \n",
      "\n",
      "Model Accuracy = 0.6857142857142857\n",
      " Confusion Matrix = [[5 1 0 0 0]\n",
      " [0 4 1 3 0]\n",
      " [0 2 6 0 0]\n",
      " [1 1 0 5 1]\n",
      " [1 0 0 0 4]] \n",
      " Avg Cross Validation Score = 0.6761904761904761\n"
     ]
    }
   ],
   "source": [
    "# without PCA\n",
    "print(f\"XGBoost without PCA \\n\")\n",
    "xgb_s = train_model(xgbs, xs_features, y_features)\n",
    "\n",
    "print('\\n')\n",
    "# with PCA\n",
    "print(f\"XGBoost with PCA \\n\")\n",
    "xgb_s = train_model(xgbs, xs_features, y_features, pca='yes')"
   ]
  },
  {
   "cell_type": "code",
   "execution_count": 21,
   "id": "2b41ca7a",
   "metadata": {},
   "outputs": [
    {
     "name": "stdout",
     "output_type": "stream",
     "text": [
      "SVM without PCA \n",
      "\n",
      "Model Accuracy = 0.5142857142857142\n",
      " Confusion Matrix = [[8 0 0 0 3]\n",
      " [0 3 0 1 0]\n",
      " [0 4 0 6 0]\n",
      " [0 1 0 2 0]\n",
      " [0 2 0 0 5]] \n",
      " Avg Cross Validation Score = 0.4261904761904762\n",
      "\n",
      "\n",
      "SVM with PCA \n",
      "\n",
      "Model Accuracy = 0.4\n",
      " Confusion Matrix = [[4 0 1 0 3]\n",
      " [0 0 5 0 2]\n",
      " [0 0 5 0 0]\n",
      " [0 0 7 0 0]\n",
      " [0 0 3 0 5]] \n",
      " Avg Cross Validation Score = 0.4261904761904762\n"
     ]
    }
   ],
   "source": [
    "# without PCA\n",
    "print(f\"SVM without PCA \\n\")\n",
    "svm_s = train_model(svms, xs_features, y_features)\n",
    "\n",
    "\n",
    "print('\\n')\n",
    "# with PCA\n",
    "print(f\"SVM with PCA \\n\")\n",
    "svm_s = train_model(svms, xs_features, y_features, pca='yes')"
   ]
  },
  {
   "cell_type": "code",
   "execution_count": 22,
   "id": "b3b9154d",
   "metadata": {
    "scrolled": true
   },
   "outputs": [
    {
     "name": "stdout",
     "output_type": "stream",
     "text": [
      "Random Forest without PCA \n",
      "\n",
      "Model Accuracy = 0.7428571428571429\n",
      " Confusion Matrix = [[12  1  0  0  0]\n",
      " [ 0  3  0  0  0]\n",
      " [ 0  1  6  2  0]\n",
      " [ 0  1  1  3  0]\n",
      " [ 0  3  0  0  2]] \n",
      " Avg Cross Validation Score = 0.6321428571428573\n",
      "\n",
      "\n",
      "Random Forest with PCA \n",
      "\n",
      "Model Accuracy = 0.6285714285714286\n",
      " Confusion Matrix = [[7 1 0 0 1]\n",
      " [0 1 1 0 2]\n",
      " [0 1 4 0 0]\n",
      " [0 2 2 4 0]\n",
      " [0 1 2 0 6]] \n",
      " Avg Cross Validation Score = 0.6321428571428573\n"
     ]
    }
   ],
   "source": [
    "# without PCA\n",
    "print(f\"Random Forest without PCA \\n\")\n",
    "rf_s = train_model(rfs, xs_features, y_features)\n",
    "\n",
    "\n",
    "print('\\n')\n",
    "# with PCA\n",
    "print(f\"Random Forest with PCA \\n\")\n",
    "rf_s = train_model(rfs, xs_features, y_features, pca='yes')"
   ]
  },
  {
   "cell_type": "markdown",
   "id": "65bc7820",
   "metadata": {},
   "source": [
    "#### Big Chunk Data"
   ]
  },
  {
   "cell_type": "code",
   "execution_count": 23,
   "id": "7a1f5f90",
   "metadata": {},
   "outputs": [],
   "source": [
    "lrb = LogisticRegression(random_state = 0, C = 100, penalty = 'l1', solver = 'liblinear')\n",
    "xgbb = XGBClassifier(objective=\"multi:softmax\", tree_method='hist', random_state=0, subsample = 0.7999999999999999, num_class = 10, n_estimators = 100, max_depth = 15, learning_rate = 0.01, colsample_bytree = 0.6, colsample_bylevel = 0.5)\n",
    "svmb = SVC(C=1, kernel='linear', random_state = 0)\n",
    "rfb = RandomForestClassifier(random_state = 0, n_estimators=400, min_samples_split=10, min_samples_leaf=4, max_features='sqrt', max_depth=50, bootstrap=True)"
   ]
  },
  {
   "cell_type": "code",
   "execution_count": 24,
   "id": "8751667f",
   "metadata": {},
   "outputs": [
    {
     "name": "stdout",
     "output_type": "stream",
     "text": [
      "Logistic Regression without PCA \n",
      "\n",
      "Model Accuracy = 0.5142857142857142\n",
      " Confusion Matrix = [[5 0 0 0 0]\n",
      " [1 1 3 5 0]\n",
      " [0 0 6 1 0]\n",
      " [2 0 1 3 0]\n",
      " [0 0 2 2 3]] \n",
      " Avg Cross Validation Score = 0.5892857142857143\n",
      "\n",
      "\n",
      "Logistic Regression with PCA \n",
      "\n",
      "Model Accuracy = 0.8285714285714286\n",
      " Confusion Matrix = [[9 0 0 0 0]\n",
      " [0 5 0 0 1]\n",
      " [0 0 5 0 2]\n",
      " [0 2 0 3 0]\n",
      " [0 0 1 0 7]] \n",
      " Avg Cross Validation Score = 0.5892857142857143\n"
     ]
    }
   ],
   "source": [
    "# without PCA\n",
    "print(f\"Logistic Regression without PCA \\n\")\n",
    "lr_b = train_model(lrb, xb_features, y_features, chunk='big')\n",
    "     \n",
    "print('\\n')\n",
    "# with PCA\n",
    "print(f\"Logistic Regression with PCA \\n\")\n",
    "lr_b = train_model(lrb, xb_features, y_features, pca='yes', chunk='big')"
   ]
  },
  {
   "cell_type": "code",
   "execution_count": 25,
   "id": "0bc1d158",
   "metadata": {},
   "outputs": [
    {
     "name": "stdout",
     "output_type": "stream",
     "text": [
      "XGBoost without PCA \n",
      "\n",
      "Model Accuracy = 0.7428571428571429\n",
      " Confusion Matrix = [[11  0  0  0  0]\n",
      " [ 0  2  1  1  1]\n",
      " [ 0  1  5  0  0]\n",
      " [ 0  3  0  2  1]\n",
      " [ 0  0  0  1  6]] \n",
      " Avg Cross Validation Score = 0.6916666666666667\n",
      "\n",
      "\n",
      "XGBoost with PCA \n",
      "\n",
      "Model Accuracy = 0.7428571428571429\n",
      " Confusion Matrix = [[10  0  0  0  0]\n",
      " [ 0  4  1  2  0]\n",
      " [ 0  2  5  2  0]\n",
      " [ 0  0  0  2  0]\n",
      " [ 0  0  0  2  5]] \n",
      " Avg Cross Validation Score = 0.6916666666666667\n"
     ]
    }
   ],
   "source": [
    "# without PCA\n",
    "print(f\"XGBoost without PCA \\n\")\n",
    "xgb_b = train_model(xgbb, xb_features, y_features, chunk='big')\n",
    "\n",
    "print('\\n')\n",
    "# with PCA\n",
    "print(f\"XGBoost with PCA \\n\")\n",
    "xgb_b = train_model(xgbb, xb_features, y_features, pca='yes', chunk='big')"
   ]
  },
  {
   "cell_type": "code",
   "execution_count": 26,
   "id": "c51777d7",
   "metadata": {},
   "outputs": [
    {
     "name": "stdout",
     "output_type": "stream",
     "text": [
      "SVM without PCA \n",
      "\n",
      "Model Accuracy = 0.5714285714285714\n",
      " Confusion Matrix = [[7 0 6 0 0]\n",
      " [0 3 1 0 1]\n",
      " [0 2 5 0 0]\n",
      " [0 0 3 1 1]\n",
      " [0 1 0 0 4]] \n",
      " Avg Cross Validation Score = 0.6226190476190477\n",
      "\n",
      "\n",
      "SVM with PCA \n",
      "\n",
      "Model Accuracy = 0.5714285714285714\n",
      " Confusion Matrix = [[4 0 0 0 0]\n",
      " [0 4 1 0 3]\n",
      " [0 1 6 0 0]\n",
      " [0 2 7 0 0]\n",
      " [0 0 1 0 6]] \n",
      " Avg Cross Validation Score = 0.6226190476190477\n"
     ]
    }
   ],
   "source": [
    "# without PCA\n",
    "print(f\"SVM without PCA \\n\")\n",
    "svm_b = train_model(svmb, xb_features, y_features, chunk='big')\n",
    "\n",
    "\n",
    "print('\\n')\n",
    "# with PCA\n",
    "print(f\"SVM with PCA \\n\")\n",
    "svm_b = train_model(svmb, xb_features, y_features, pca='yes', chunk='big')"
   ]
  },
  {
   "cell_type": "code",
   "execution_count": 27,
   "id": "cd84d49a",
   "metadata": {},
   "outputs": [
    {
     "name": "stdout",
     "output_type": "stream",
     "text": [
      "Random Forest without PCA \n",
      "\n",
      "Model Accuracy = 0.7428571428571429\n",
      " Confusion Matrix = [[7 0 0 0 0]\n",
      " [0 2 1 2 1]\n",
      " [1 0 8 1 0]\n",
      " [0 1 1 4 0]\n",
      " [0 0 0 1 5]] \n",
      " Avg Cross Validation Score = 0.6904761904761904\n",
      "\n",
      "\n",
      "Random Forest with PCA \n",
      "\n",
      "Model Accuracy = 0.7142857142857143\n",
      " Confusion Matrix = [[9 0 0 0 0]\n",
      " [0 4 1 0 1]\n",
      " [0 4 5 0 0]\n",
      " [0 4 0 4 0]\n",
      " [0 0 0 0 3]] \n",
      " Avg Cross Validation Score = 0.6904761904761904\n"
     ]
    }
   ],
   "source": [
    "# without PCA\n",
    "print(f\"Random Forest without PCA \\n\")\n",
    "rf_b = train_model(rfb, xb_features, y_features, chunk='big')\n",
    "\n",
    "\n",
    "print('\\n')\n",
    "# with PCA\n",
    "print(f\"Random Forest with PCA \\n\")\n",
    "rf_b = train_model(rfb, xb_features, y_features, pca='yes', chunk='big')"
   ]
  },
  {
   "cell_type": "markdown",
   "id": "619c9e8e",
   "metadata": {},
   "source": [
    "---------"
   ]
  },
  {
   "cell_type": "markdown",
   "id": "24b2ce6e",
   "metadata": {},
   "source": [
    "### Model Building"
   ]
  },
  {
   "cell_type": "markdown",
   "id": "7b54030f",
   "metadata": {},
   "source": [
    "- As the best model is the Small-chunk-PCA-Random Forest model"
   ]
  },
  {
   "cell_type": "markdown",
   "id": "b070ce1d",
   "metadata": {},
   "source": [
    "Implementation and a little visualization to see our Random Forest Model"
   ]
  },
  {
   "cell_type": "code",
   "execution_count": 9,
   "id": "cf92ce53",
   "metadata": {},
   "outputs": [],
   "source": [
    "# Split big-chunk-data into (70%) train data and (30%) test data\n",
    "xb_train, xb_test, y_train, y_test = train_test_split(xb_features, y_features, test_size=0.3)"
   ]
  },
  {
   "cell_type": "code",
   "execution_count": 10,
   "id": "f3619449",
   "metadata": {},
   "outputs": [
    {
     "name": "stdout",
     "output_type": "stream",
     "text": [
      "(80, 5)\n"
     ]
    }
   ],
   "source": [
    "# performing preprocessing part\n",
    "sc = StandardScaler()\n",
    "  \n",
    "# xs_train = sc.fit_transform(xs_train)\n",
    "# xs_test = sc.transform(xs_test)\n",
    "\n",
    "xb_train = sc.fit_transform(xb_train)\n",
    "xb_test = sc.transform(xb_test)\n",
    "\n",
    "# print(xs_train.shape)\n",
    "print(xb_train.shape)\n",
    "\n",
    "#-----------------------------------------------\n",
    "\n",
    "pca = PCA(n_components = PCA_N)\n",
    "# xs_train_pca = pca.fit_transform(xs_train)\n",
    "# xs_test_pca = pca.transform(xs_test)\n",
    "\n",
    "xb_train_pca = pca.fit_transform(xb_train)\n",
    "xb_test_pca = pca.transform(xb_test)"
   ]
  },
  {
   "cell_type": "code",
   "execution_count": 15,
   "id": "b32f64ff",
   "metadata": {},
   "outputs": [],
   "source": [
    "# classifier = LogisticRegression(random_state = 0, C = 100, penalty = 'l1', solver = 'liblinear')\n",
    "# classifier = SVC(C=1, kernel='linear', random_state = 0)\n",
    "# classifier = RandomForestClassifier(random_state = 0, n_estimators=400, min_samples_split=10, min_samples_leaf=4, max_features='sqrt', max_depth=50, bootstrap=True)\n",
    "# classifier = XGBClassifier(objective=\"multi:softmax\", tree_method='hist', random_state=0, subsample = 0.7999999999999999, num_class = 10, n_estimators = 100, max_depth = 15, learning_rate = 0.01, colsample_bytree = 0.6, colsample_bylevel = 0.5)\n",
    "# classifier.fit(xb_train_pca, y_train)\n",
    "# classifier"
   ]
  },
  {
   "cell_type": "code",
   "execution_count": 16,
   "id": "aab70b7f",
   "metadata": {},
   "outputs": [],
   "source": [
    "classifier_path = 'A:\\\\OpenSesame\\\\models\\\\rf_speaker.pkl'\n",
    "classifier = pickle.load(open(classifier_path, 'rb'))"
   ]
  },
  {
   "cell_type": "code",
   "execution_count": 25,
   "id": "6e371c9d",
   "metadata": {},
   "outputs": [
    {
     "data": {
      "image/png": "[encoded data removed]",
      "text/plain": [
       "<Figure size 432x288 with 1 Axes>"
      ]
     },
     "metadata": {},
     "output_type": "display_data"
    }
   ],
   "source": [
    "# Predicting the training set\n",
    "# result through scatter plot \n",
    "from matplotlib.colors import ListedColormap\n",
    "  \n",
    "X_set, y_set = xb_train_pca, y_train[:,0]\n",
    "X1, X2 = np.meshgrid(np.arange(start = X_set[:, 0].min() - 1,\n",
    "                     stop = X_set[:, 0].max() + 1, step = 0.01),\n",
    "                     np.arange(start = X_set[:, 1].min() - 1,\n",
    "                     stop = X_set[:, 1].max() + 1, step = 0.01))\n",
    "  \n",
    "plt.contourf(X1, X2, classifier.predict(np.array([X1.ravel(),\n",
    "             X2.ravel()]).T).reshape(X1.shape), alpha = 0.2,\n",
    "             cmap = ListedColormap(('azure', 'deepskyblue','thistle','lavender', 'yellowgreen')))\n",
    "  \n",
    "plt.xlim(X1.min(), X1.max())\n",
    "plt.ylim(X2.min(), X2.max())\n",
    "  \n",
    "for i, j in enumerate(np.unique(y_set)):\n",
    "    plt.scatter(X_set[y_set == j, 0], X_set[y_set == j, 1],\n",
    "                color = ListedColormap(('darkseagreen', 'slategray', 'indigo', 'midnightblue', 'olive'))(i), label = j)\n",
    "  \n",
    "plt.title('Model (Training set)')\n",
    "plt.xlabel('PC1') # for Xlabel\n",
    "plt.ylabel('PC2') # for Ylabel\n",
    "plt.legend() # to show legend\n",
    "plt.style.use('ggplot')  \n",
    "# show scatter plot\n",
    "plt.show()"
   ]
  },
  {
   "cell_type": "code",
   "execution_count": 18,
   "id": "fb9f1c2c",
   "metadata": {},
   "outputs": [
    {
     "data": {
      "image/png": "[encoded data removed]",
      "text/plain": [
       "<Figure size 432x288 with 1 Axes>"
      ]
     },
     "metadata": {
      "needs_background": "light"
     },
     "output_type": "display_data"
    }
   ],
   "source": [
    "# Visualising the Test set results through scatter plot\n",
    "from matplotlib.colors import ListedColormap\n",
    "  \n",
    "X_set, y_set = xb_test_pca, y_test[:,0]\n",
    "  \n",
    "X1, X2 = np.meshgrid(np.arange(start = X_set[:, 0].min() - 1,\n",
    "                     stop = X_set[:, 0].max() + 1, step = 0.01),\n",
    "                     np.arange(start = X_set[:, 1].min() - 1,\n",
    "                     stop = X_set[:, 1].max() + 1, step = 0.01))\n",
    "  \n",
    "plt.contourf(X1, X2, classifier.predict(np.array([X1.ravel(),\n",
    "             X2.ravel()]).T).reshape(X1.shape), alpha = 0.75,\n",
    "             cmap = ListedColormap(('violet', 'brown','red','white', 'grey')))\n",
    "  \n",
    "plt.xlim(X1.min(), X1.max())\n",
    "plt.ylim(X2.min(), X2.max())\n",
    "  \n",
    "for i, j in enumerate(np.unique(y_set)):\n",
    "    plt.scatter(X_set[y_set == j, 0], X_set[y_set == j, 1],\n",
    "                color = ListedColormap(('blue', 'green', 'yellow', 'black', 'orange'))(i), label = j)\n",
    "  \n",
    "# title for scatter plot\n",
    "plt.title('Model (Test set)') \n",
    "plt.xlabel('PC1') # for Xlabel\n",
    "plt.ylabel('PC2') # for Ylabel\n",
    "plt.legend()\n",
    "plt.style.use('ggplot')    \n",
    "# show scatter plot\n",
    "plt.show()"
   ]
  },
  {
   "cell_type": "markdown",
   "id": "48d126ae",
   "metadata": {},
   "source": [
    "------------"
   ]
  },
  {
   "cell_type": "markdown",
   "id": "7fe1c844",
   "metadata": {},
   "source": [
    "### Model verification"
   ]
  },
  {
   "cell_type": "code",
   "execution_count": 77,
   "id": "7bd9bb80",
   "metadata": {},
   "outputs": [],
   "source": [
    "# Functions we will use\n",
    "def transform_audio(audio, FRAMESIZE, HOPLENGTH, MELS, SPLITFREQ):\n",
    "    \n",
    "    audio_array, sr = librosa.load(audio)\n",
    "    ae_audio = fancy_amplitude_envelope(audio_array, FRAMESIZE, HOPLENGTH)\n",
    "    rms_audio = librosa.feature.rms(audio_array, frame_length=FRAMESIZE, hop_length=HOPLENGTH)[0]\n",
    "    mel_audio = librosa.feature.melspectrogram(audio_array, sr=sr, n_fft=FRAMESIZE, hop_length=HOPLENGTH, n_mels=MELS)\n",
    "    log_mel_audio = librosa.power_to_db(mel_audio)[0]\n",
    "    mfccs_audio = librosa.feature.mfcc(y=audio_array, n_mfcc=MELS, sr=sr, n_fft=FRAMESIZE, hop_length=HOPLENGTH)[0]\n",
    "    sc_audio = librosa.feature.spectral_centroid(y=audio_array, sr=sr, n_fft=FRAMESIZE, hop_length=HOPLENGTH)[0]\n",
    "    chromagram_audio = librosa.feature.chroma_stft(audio_array, sr=sr, n_fft=FRAMESIZE, hop_length=HOPLENGTH)[0]\n",
    "    tone_audio = librosa.feature.tonnetz(y=audio_array, sr=sr)[0]\n",
    "    \n",
    "#     return np.hstack((log_mel_audio, mfccs_audio, sc_audio, rms_audio, ae_audio, chromagram_audio, tone_audio))\n",
    "    return np.hstack((mean(log_mel_audio), var(log_mel_audio), mean(mfccs_audio), var(mfccs_audio), mean(sc_audio), var(sc_audio), mean(ae_audio), var(ae_audio), mean(chromagram_audio), var(chromagram_audio), mean(tone_audio), var(tone_audio)))\n",
    "\n",
    "\n",
    "def fancy_amplitude_envelope(signal, framesize, hoplength):\n",
    "    return np.array([max(signal[i:i+framesize]) for i in range(0, len(signal), hoplength)])"
   ]
  },
  {
   "cell_type": "code",
   "execution_count": 78,
   "id": "1e66c6dd",
   "metadata": {},
   "outputs": [
    {
     "data": {
      "text/plain": [
       "[1, 2, 3, 4, 6]"
      ]
     },
     "execution_count": 78,
     "metadata": {},
     "output_type": "execute_result"
    }
   ],
   "source": [
    "x_ver_features = []\n",
    "for x in best_features_big:\n",
    "    x_ver_features.append(int(x.split(' ')[1]))\n",
    "x_ver_features\n",
    "\n",
    "# x_ver_features = []\n",
    "# for x in best_features_small:\n",
    "#     x_ver_features.append(int(x.split(' ')[1]))\n",
    "# x_ver_features"
   ]
  },
  {
   "cell_type": "code",
   "execution_count": 79,
   "id": "cf3ed423",
   "metadata": {},
   "outputs": [],
   "source": [
    "def test_classifier(path):\n",
    "    file_paths = f\"A:\\\\Professional\\\\Engineering CU\\\\DSP_Data_Verification\\\\{path}\\\\\"\n",
    "    for file in os.listdir(file_paths):\n",
    "        audio = file_paths+file\n",
    "        x_ver = transform_audio(audio, FRAMESIZE*4, HOPLENGTH*4, MELS, SPLITFREQ) #Big-chunk\n",
    "        x_ver = x_ver[x_ver_features]\n",
    "        x_ver = sc.transform(x_ver.reshape(1,-1))\n",
    "        x_ver = pca.transform(x_ver)[0]\n",
    "        \n",
    "        print(file)\n",
    "        print(classifier.predict(np.array([x_ver[0].ravel(), x_ver[1].ravel()]).T).reshape(x_ver[0].shape))"
   ]
  },
  {
   "cell_type": "code",
   "execution_count": 86,
   "id": "d5f557f2",
   "metadata": {},
   "outputs": [
    {
     "name": "stdout",
     "output_type": "stream",
     "text": [
      "ahmed_otd13.wav\n",
      "2\n",
      "ahmed_otd2.wav\n",
      "3\n",
      "maha_otd13.wav\n",
      "4\n",
      "maha_otd14.wav\n",
      "4\n",
      "mahmoud_otd10.wav\n",
      "2\n",
      "mahmoud_otd11.wav\n",
      "2\n",
      "mahmoud_otd12.wav\n",
      "2\n",
      "mahmoud_otd13.wav\n",
      "2\n",
      "mahmoud_otd14.wav\n",
      "3\n",
      "mahmoud_otd9.wav\n",
      "2\n"
     ]
    }
   ],
   "source": [
    "test_classifier('open the door')"
   ]
  },
  {
   "cell_type": "code",
   "execution_count": 87,
   "id": "bc54de2b",
   "metadata": {},
   "outputs": [],
   "source": [
    "dest = \"A:\\OpenSesame\\models\\\\\"\n",
    "picklefile = \"rf_speaker\"\n",
    "pickle.dump(classifier,open(dest + picklefile+'.pkl','wb'))\n",
    "# classifier.save_model(dest+picklefile+'.json')"
   ]
  },
  {
   "cell_type": "code",
   "execution_count": null,
   "id": "90f93296",
   "metadata": {},
   "outputs": [],
   "source": []
  }
 ],
 "metadata": {
  "kernelspec": {
   "display_name": "Python 3",
   "language": "python",
   "name": "python3"
  },
  "language_info": {
   "codemirror_mode": {
    "name": "ipython",
    "version": 3
   },
   "file_extension": ".py",
   "mimetype": "text/x-python",
   "name": "python",
   "nbconvert_exporter": "python",
   "pygments_lexer": "ipython3",
   "version": "3.8.8"
  }
 },
 "nbformat": 4,
 "nbformat_minor": 5
}
