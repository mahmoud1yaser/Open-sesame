{
 "cells": [
  {
   "cell_type": "code",
   "execution_count": 1,
   "outputs": [],
   "source": [
    "# Audio processing\n",
    "import librosa\n",
    "# import noisereduce\n",
    "# Data cleaning\n",
    "import os\n",
    "import pandas as pd\n",
    "import numpy as np\n",
    "from numpy import mean, var\n",
    "# Data visualization\n",
    "import matplotlib.pyplot as plt\n",
    "import seaborn as sns\n",
    "# Statistics\n",
    "from sklearn.decomposition import PCA\n",
    "from sklearn.feature_selection import SelectKBest\n",
    "from sklearn.feature_selection import mutual_info_classif\n",
    "from sklearn.model_selection import train_test_split\n",
    "# Advanced options\n",
    "import warnings\n",
    "from tqdm import tqdm\n",
    "warnings.filterwarnings(\"ignore\")"
   ],
   "metadata": {
    "collapsed": false
   }
  },
  {
   "cell_type": "code",
   "execution_count": 2,
   "outputs": [],
   "source": [
    "FRAMESIZE = 1024\n",
    "HOPLENGTH = 512\n",
    "MELS = 13"
   ],
   "metadata": {
    "collapsed": false
   }
  },
  {
   "cell_type": "code",
   "execution_count": 3,
   "outputs": [],
   "source": [
    "# Cluster data for future work\n",
    "opd_data = []\n",
    "others_data = []\n",
    "directory= \"A:\\Professional\\Engineering CU\\DSP_Data_New\"\n",
    "for dir in os.listdir(directory):\n",
    "    if dir == \"open the door\":\n",
    "        for filename in os.listdir(os.path.join(directory, dir)):\n",
    "            path_opd = os.path.join(directory, dir, filename)\n",
    "            opd_data.append(path_opd)\n",
    "    else:\n",
    "        for filename in os.listdir(os.path.join(directory, dir)):\n",
    "            path_others = os.path.join(directory, dir, filename)\n",
    "            others_data.append(path_others)"
   ],
   "metadata": {
    "collapsed": false
   }
  },
  {
   "cell_type": "code",
   "execution_count": 4,
   "outputs": [],
   "source": [
    "# Group all the data\n",
    "data = []\n",
    "data.extend(opd_data)\n",
    "data.extend(others_data)"
   ],
   "metadata": {
    "collapsed": false
   }
  },
  {
   "cell_type": "code",
   "execution_count": 5,
   "outputs": [
    {
     "data": {
      "text/plain": "                                                  data  pass\n0    A:\\Professional\\Engineering CU\\DSP_Data_New\\op...     1\n1    A:\\Professional\\Engineering CU\\DSP_Data_New\\op...     1\n2    A:\\Professional\\Engineering CU\\DSP_Data_New\\op...     1\n3    A:\\Professional\\Engineering CU\\DSP_Data_New\\op...     1\n4    A:\\Professional\\Engineering CU\\DSP_Data_New\\op...     1\n..                                                 ...   ...\n187  A:\\Professional\\Engineering CU\\DSP_Data_New\\un...     0\n188  A:\\Professional\\Engineering CU\\DSP_Data_New\\un...     0\n189  A:\\Professional\\Engineering CU\\DSP_Data_New\\un...     0\n190  A:\\Professional\\Engineering CU\\DSP_Data_New\\un...     0\n191  A:\\Professional\\Engineering CU\\DSP_Data_New\\un...     0\n\n[192 rows x 2 columns]",
      "text/html": "<div>\n<style scoped>\n    .dataframe tbody tr th:only-of-type {\n        vertical-align: middle;\n    }\n\n    .dataframe tbody tr th {\n        vertical-align: top;\n    }\n\n    .dataframe thead th {\n        text-align: right;\n    }\n</style>\n<table border=\"1\" class=\"dataframe\">\n  <thead>\n    <tr style=\"text-align: right;\">\n      <th></th>\n      <th>data</th>\n      <th>pass</th>\n    </tr>\n  </thead>\n  <tbody>\n    <tr>\n      <th>0</th>\n      <td>A:\\Professional\\Engineering CU\\DSP_Data_New\\op...</td>\n      <td>1</td>\n    </tr>\n    <tr>\n      <th>1</th>\n      <td>A:\\Professional\\Engineering CU\\DSP_Data_New\\op...</td>\n      <td>1</td>\n    </tr>\n    <tr>\n      <th>2</th>\n      <td>A:\\Professional\\Engineering CU\\DSP_Data_New\\op...</td>\n      <td>1</td>\n    </tr>\n    <tr>\n      <th>3</th>\n      <td>A:\\Professional\\Engineering CU\\DSP_Data_New\\op...</td>\n      <td>1</td>\n    </tr>\n    <tr>\n      <th>4</th>\n      <td>A:\\Professional\\Engineering CU\\DSP_Data_New\\op...</td>\n      <td>1</td>\n    </tr>\n    <tr>\n      <th>...</th>\n      <td>...</td>\n      <td>...</td>\n    </tr>\n    <tr>\n      <th>187</th>\n      <td>A:\\Professional\\Engineering CU\\DSP_Data_New\\un...</td>\n      <td>0</td>\n    </tr>\n    <tr>\n      <th>188</th>\n      <td>A:\\Professional\\Engineering CU\\DSP_Data_New\\un...</td>\n      <td>0</td>\n    </tr>\n    <tr>\n      <th>189</th>\n      <td>A:\\Professional\\Engineering CU\\DSP_Data_New\\un...</td>\n      <td>0</td>\n    </tr>\n    <tr>\n      <th>190</th>\n      <td>A:\\Professional\\Engineering CU\\DSP_Data_New\\un...</td>\n      <td>0</td>\n    </tr>\n    <tr>\n      <th>191</th>\n      <td>A:\\Professional\\Engineering CU\\DSP_Data_New\\un...</td>\n      <td>0</td>\n    </tr>\n  </tbody>\n</table>\n<p>192 rows × 2 columns</p>\n</div>"
     },
     "execution_count": 5,
     "metadata": {},
     "output_type": "execute_result"
    }
   ],
   "source": [
    "# Fingerprint Dataframe\n",
    "password_open = pd.DataFrame()\n",
    "password_others =pd.DataFrame()\n",
    "\n",
    "password_open['data'] = opd_data\n",
    "password_others['data'] = others_data\n",
    "password_open['pass'] = 1\n",
    "password_others['pass'] = 0\n",
    "\n",
    "password = password_open.append(password_others, ignore_index=True)\n",
    "password"
   ],
   "metadata": {
    "collapsed": false
   }
  },
  {
   "cell_type": "code",
   "execution_count": 6,
   "outputs": [],
   "source": [
    "# Functions we will use\n",
    "def transform_audio(audio, FRAMESIZE, HOPLENGTH, MELS):\n",
    "\n",
    "    # audio_noised, sr = librosa.load(audio, duration=2)\n",
    "    # audio_array = noisereduce.reduce_noise(y=audio_noised, sr=sr)\n",
    "    audio_array, sr = librosa.load(audio, duration=2)\n",
    "\n",
    "    log_mel_audio_list_mean = []\n",
    "    log_mel_audio_list_var = []\n",
    "    mfccs_audio_list_mean = []\n",
    "    mfccs_audio_list_var = []\n",
    "    cqt_audio_list_mean = []\n",
    "    cqt_audio_list_var = []\n",
    "    chromagram_audio_list_mean = []\n",
    "    chromagram_audio_list_var = []\n",
    "    tone_audio_list_mean = []\n",
    "    tone_audio_list_var = []\n",
    "\n",
    "    log_mel_audio = librosa.power_to_db(librosa.feature.melspectrogram(audio_array, sr=sr, n_fft=FRAMESIZE, hop_length=HOPLENGTH, n_mels=MELS))\n",
    "    mfccs_audio = librosa.feature.mfcc(y=audio_array, n_mfcc=MELS, sr=sr, n_fft=FRAMESIZE, hop_length=HOPLENGTH)\n",
    "\n",
    "    cqt_audio = np.abs(librosa.cqt(y=audio_array, sr=sr, hop_length=HOPLENGTH))\n",
    "    chromagram_audio = librosa.feature.chroma_stft(audio_array, sr=sr, n_fft=FRAMESIZE, hop_length=HOPLENGTH)\n",
    "    tone_audio = librosa.feature.tonnetz(y=audio_array, sr=sr)\n",
    "\n",
    "    for i in range(len(log_mel_audio)):\n",
    "         log_mel_audio_list_mean.append(log_mel_audio[i].mean())\n",
    "         log_mel_audio_list_var.append(log_mel_audio[i].var())\n",
    "\n",
    "    for i in range(len(mfccs_audio)):\n",
    "         mfccs_audio_list_mean.append(mfccs_audio[i].mean())\n",
    "         mfccs_audio_list_var.append(mfccs_audio[i].var())\n",
    "\n",
    "    for i in range(len(cqt_audio)):\n",
    "         cqt_audio_list_mean.append(cqt_audio[i].mean())\n",
    "         cqt_audio_list_var.append(cqt_audio[i].var())\n",
    "\n",
    "    for i in range(len(chromagram_audio)):\n",
    "         chromagram_audio_list_mean.append(chromagram_audio[i].mean())\n",
    "         chromagram_audio_list_var.append(chromagram_audio[i].var())\n",
    "\n",
    "    for i in range(len(tone_audio)):\n",
    "         tone_audio_list_mean.append(tone_audio[i].mean())\n",
    "         tone_audio_list_var.append(tone_audio[i].var())\n",
    "\n",
    "    sb_audio = librosa.feature.spectral_bandwidth(y=audio_array, sr=sr, n_fft=FRAMESIZE, hop_length=HOPLENGTH)\n",
    "\n",
    "    ae_audio = fancy_amplitude_envelope(audio_array, FRAMESIZE, HOPLENGTH)\n",
    "    rms_audio = librosa.feature.rms(audio_array, frame_length=FRAMESIZE, hop_length=HOPLENGTH)\n",
    "\n",
    "    return np.hstack((mean(ae_audio), var(ae_audio), mean(rms_audio), var(rms_audio), mean(sb_audio), var(sb_audio), chromagram_audio_list_mean, chromagram_audio_list_var, tone_audio_list_mean, tone_audio_list_var, cqt_audio_list_mean, cqt_audio_list_var, mfccs_audio_list_mean, mfccs_audio_list_var, log_mel_audio_list_mean, log_mel_audio_list_var))\n",
    "\n",
    "\n",
    "def fancy_amplitude_envelope(signal, framesize, hoplength):\n",
    "    return np.array([max(signal[i:i+framesize]) for i in range(0, len(signal), hoplength)])"
   ],
   "metadata": {
    "collapsed": false
   }
  },
  {
   "cell_type": "code",
   "execution_count": 7,
   "outputs": [],
   "source": [
    "samples_no = len(password['data'])\n",
    "features_length = len(transform_audio(password['data'].iloc[0], FRAMESIZE, HOPLENGTH, MELS))"
   ],
   "metadata": {
    "collapsed": false
   }
  },
  {
   "cell_type": "code",
   "execution_count": 8,
   "outputs": [
    {
     "name": "stderr",
     "output_type": "stream",
     "text": [
      "100%|██████████| 262/262 [00:00<00:00, 4224.83it/s]\n",
      "192it [01:34,  2.02it/s]\n"
     ]
    },
    {
     "data": {
      "text/plain": "                                                  data  pass  feature 0  \\\n0    A:\\Professional\\Engineering CU\\DSP_Data_New\\op...     1   0.027843   \n1    A:\\Professional\\Engineering CU\\DSP_Data_New\\op...     1   0.033648   \n2    A:\\Professional\\Engineering CU\\DSP_Data_New\\op...     1   0.023385   \n3    A:\\Professional\\Engineering CU\\DSP_Data_New\\op...     1   0.024663   \n4    A:\\Professional\\Engineering CU\\DSP_Data_New\\op...     1   0.051932   \n..                                                 ...   ...        ...   \n187  A:\\Professional\\Engineering CU\\DSP_Data_New\\un...     0   0.015773   \n188  A:\\Professional\\Engineering CU\\DSP_Data_New\\un...     0   0.047651   \n189  A:\\Professional\\Engineering CU\\DSP_Data_New\\un...     0   0.051047   \n190  A:\\Professional\\Engineering CU\\DSP_Data_New\\un...     0   0.039748   \n191  A:\\Professional\\Engineering CU\\DSP_Data_New\\un...     0   0.027424   \n\n     feature 1  feature 2  feature 3    feature 4      feature 5  feature 6  \\\n0     0.002087   0.013634   0.000580  2409.485534  444727.497430   0.637220   \n1     0.004332   0.015390   0.000874  2302.179488  505915.237556   0.475199   \n2     0.001250   0.013316   0.000455  2280.717985  609810.794167   0.515015   \n3     0.000743   0.007930   0.000077  3207.467542   21074.717748   0.666652   \n4     0.020891   0.020185   0.001819  2241.470457  627994.777186   0.452060   \n..         ...        ...        ...          ...            ...        ...   \n187   0.000217   0.005335   0.000030  3280.455819   22913.322885   0.569803   \n188   0.005682   0.018710   0.000937  2221.252490  696581.265398   0.534416   \n189   0.005127   0.019362   0.000863  2960.785129  289192.140017   0.536324   \n190   0.004213   0.015745   0.000659  2328.297810  688890.333144   0.527444   \n191   0.000908   0.010619   0.000160  3183.454447   38762.860722   0.675968   \n\n     feature 7  ...  feature 252  feature 253  feature 254  feature 255  \\\n0     0.566248  ...   216.462494   176.181519   128.056839   149.693787   \n1     0.436228  ...   219.727203   170.745605    97.705536   127.613663   \n2     0.428426  ...   211.628494   204.353867   129.512207   116.327835   \n3     0.625858  ...    33.583759    28.132874    14.423258     5.036216   \n4     0.515571  ...   271.744171   223.154694   169.702164   114.854019   \n..         ...  ...          ...          ...          ...          ...   \n187   0.590974  ...    39.137447    33.027950     7.295224     2.550004   \n188   0.452144  ...   260.199554   288.955322   152.535645   164.240067   \n189   0.534323  ...   154.288620   100.381271    21.474648    64.361992   \n190   0.472268  ...   273.135925   274.134705   121.783401   157.892990   \n191   0.644536  ...    45.403637    47.550270     8.509048     2.732464   \n\n     feature 256  feature 257  feature 258  feature 259  feature 260  \\\n0     209.715164   148.801743    85.350876    59.285122    70.233040   \n1     160.602402   135.815109    92.522125    74.727669    85.024757   \n2     165.632950   190.573883   107.446518    43.292130    53.123344   \n3      11.231256     8.625013     3.750520     0.598897     0.544173   \n4     138.567413   167.287033   108.930367    58.179504    53.992485   \n..           ...          ...          ...          ...          ...   \n187     4.270374     2.958375     1.051028     0.757277     0.480075   \n188   200.829163   171.758636   178.650635    59.455601    42.259415   \n189    51.115452    39.914986    15.535128     1.903714     2.089182   \n190   211.429337   204.492920   150.704941    35.732243    24.178911   \n191    10.899345     9.667048     3.622254     0.448042     0.365600   \n\n     feature 261  \n0      65.921082  \n1     104.147827  \n2      51.931469  \n3       0.362404  \n4      42.848633  \n..           ...  \n187     0.356831  \n188    65.068863  \n189     1.833574  \n190    42.259094  \n191     0.330244  \n\n[192 rows x 264 columns]",
      "text/html": "<div>\n<style scoped>\n    .dataframe tbody tr th:only-of-type {\n        vertical-align: middle;\n    }\n\n    .dataframe tbody tr th {\n        vertical-align: top;\n    }\n\n    .dataframe thead th {\n        text-align: right;\n    }\n</style>\n<table border=\"1\" class=\"dataframe\">\n  <thead>\n    <tr style=\"text-align: right;\">\n      <th></th>\n      <th>data</th>\n      <th>pass</th>\n      <th>feature 0</th>\n      <th>feature 1</th>\n      <th>feature 2</th>\n      <th>feature 3</th>\n      <th>feature 4</th>\n      <th>feature 5</th>\n      <th>feature 6</th>\n      <th>feature 7</th>\n      <th>...</th>\n      <th>feature 252</th>\n      <th>feature 253</th>\n      <th>feature 254</th>\n      <th>feature 255</th>\n      <th>feature 256</th>\n      <th>feature 257</th>\n      <th>feature 258</th>\n      <th>feature 259</th>\n      <th>feature 260</th>\n      <th>feature 261</th>\n    </tr>\n  </thead>\n  <tbody>\n    <tr>\n      <th>0</th>\n      <td>A:\\Professional\\Engineering CU\\DSP_Data_New\\op...</td>\n      <td>1</td>\n      <td>0.027843</td>\n      <td>0.002087</td>\n      <td>0.013634</td>\n      <td>0.000580</td>\n      <td>2409.485534</td>\n      <td>444727.497430</td>\n      <td>0.637220</td>\n      <td>0.566248</td>\n      <td>...</td>\n      <td>216.462494</td>\n      <td>176.181519</td>\n      <td>128.056839</td>\n      <td>149.693787</td>\n      <td>209.715164</td>\n      <td>148.801743</td>\n      <td>85.350876</td>\n      <td>59.285122</td>\n      <td>70.233040</td>\n      <td>65.921082</td>\n    </tr>\n    <tr>\n      <th>1</th>\n      <td>A:\\Professional\\Engineering CU\\DSP_Data_New\\op...</td>\n      <td>1</td>\n      <td>0.033648</td>\n      <td>0.004332</td>\n      <td>0.015390</td>\n      <td>0.000874</td>\n      <td>2302.179488</td>\n      <td>505915.237556</td>\n      <td>0.475199</td>\n      <td>0.436228</td>\n      <td>...</td>\n      <td>219.727203</td>\n      <td>170.745605</td>\n      <td>97.705536</td>\n      <td>127.613663</td>\n      <td>160.602402</td>\n      <td>135.815109</td>\n      <td>92.522125</td>\n      <td>74.727669</td>\n      <td>85.024757</td>\n      <td>104.147827</td>\n    </tr>\n    <tr>\n      <th>2</th>\n      <td>A:\\Professional\\Engineering CU\\DSP_Data_New\\op...</td>\n      <td>1</td>\n      <td>0.023385</td>\n      <td>0.001250</td>\n      <td>0.013316</td>\n      <td>0.000455</td>\n      <td>2280.717985</td>\n      <td>609810.794167</td>\n      <td>0.515015</td>\n      <td>0.428426</td>\n      <td>...</td>\n      <td>211.628494</td>\n      <td>204.353867</td>\n      <td>129.512207</td>\n      <td>116.327835</td>\n      <td>165.632950</td>\n      <td>190.573883</td>\n      <td>107.446518</td>\n      <td>43.292130</td>\n      <td>53.123344</td>\n      <td>51.931469</td>\n    </tr>\n    <tr>\n      <th>3</th>\n      <td>A:\\Professional\\Engineering CU\\DSP_Data_New\\op...</td>\n      <td>1</td>\n      <td>0.024663</td>\n      <td>0.000743</td>\n      <td>0.007930</td>\n      <td>0.000077</td>\n      <td>3207.467542</td>\n      <td>21074.717748</td>\n      <td>0.666652</td>\n      <td>0.625858</td>\n      <td>...</td>\n      <td>33.583759</td>\n      <td>28.132874</td>\n      <td>14.423258</td>\n      <td>5.036216</td>\n      <td>11.231256</td>\n      <td>8.625013</td>\n      <td>3.750520</td>\n      <td>0.598897</td>\n      <td>0.544173</td>\n      <td>0.362404</td>\n    </tr>\n    <tr>\n      <th>4</th>\n      <td>A:\\Professional\\Engineering CU\\DSP_Data_New\\op...</td>\n      <td>1</td>\n      <td>0.051932</td>\n      <td>0.020891</td>\n      <td>0.020185</td>\n      <td>0.001819</td>\n      <td>2241.470457</td>\n      <td>627994.777186</td>\n      <td>0.452060</td>\n      <td>0.515571</td>\n      <td>...</td>\n      <td>271.744171</td>\n      <td>223.154694</td>\n      <td>169.702164</td>\n      <td>114.854019</td>\n      <td>138.567413</td>\n      <td>167.287033</td>\n      <td>108.930367</td>\n      <td>58.179504</td>\n      <td>53.992485</td>\n      <td>42.848633</td>\n    </tr>\n    <tr>\n      <th>...</th>\n      <td>...</td>\n      <td>...</td>\n      <td>...</td>\n      <td>...</td>\n      <td>...</td>\n      <td>...</td>\n      <td>...</td>\n      <td>...</td>\n      <td>...</td>\n      <td>...</td>\n      <td>...</td>\n      <td>...</td>\n      <td>...</td>\n      <td>...</td>\n      <td>...</td>\n      <td>...</td>\n      <td>...</td>\n      <td>...</td>\n      <td>...</td>\n      <td>...</td>\n      <td>...</td>\n    </tr>\n    <tr>\n      <th>187</th>\n      <td>A:\\Professional\\Engineering CU\\DSP_Data_New\\un...</td>\n      <td>0</td>\n      <td>0.015773</td>\n      <td>0.000217</td>\n      <td>0.005335</td>\n      <td>0.000030</td>\n      <td>3280.455819</td>\n      <td>22913.322885</td>\n      <td>0.569803</td>\n      <td>0.590974</td>\n      <td>...</td>\n      <td>39.137447</td>\n      <td>33.027950</td>\n      <td>7.295224</td>\n      <td>2.550004</td>\n      <td>4.270374</td>\n      <td>2.958375</td>\n      <td>1.051028</td>\n      <td>0.757277</td>\n      <td>0.480075</td>\n      <td>0.356831</td>\n    </tr>\n    <tr>\n      <th>188</th>\n      <td>A:\\Professional\\Engineering CU\\DSP_Data_New\\un...</td>\n      <td>0</td>\n      <td>0.047651</td>\n      <td>0.005682</td>\n      <td>0.018710</td>\n      <td>0.000937</td>\n      <td>2221.252490</td>\n      <td>696581.265398</td>\n      <td>0.534416</td>\n      <td>0.452144</td>\n      <td>...</td>\n      <td>260.199554</td>\n      <td>288.955322</td>\n      <td>152.535645</td>\n      <td>164.240067</td>\n      <td>200.829163</td>\n      <td>171.758636</td>\n      <td>178.650635</td>\n      <td>59.455601</td>\n      <td>42.259415</td>\n      <td>65.068863</td>\n    </tr>\n    <tr>\n      <th>189</th>\n      <td>A:\\Professional\\Engineering CU\\DSP_Data_New\\un...</td>\n      <td>0</td>\n      <td>0.051047</td>\n      <td>0.005127</td>\n      <td>0.019362</td>\n      <td>0.000863</td>\n      <td>2960.785129</td>\n      <td>289192.140017</td>\n      <td>0.536324</td>\n      <td>0.534323</td>\n      <td>...</td>\n      <td>154.288620</td>\n      <td>100.381271</td>\n      <td>21.474648</td>\n      <td>64.361992</td>\n      <td>51.115452</td>\n      <td>39.914986</td>\n      <td>15.535128</td>\n      <td>1.903714</td>\n      <td>2.089182</td>\n      <td>1.833574</td>\n    </tr>\n    <tr>\n      <th>190</th>\n      <td>A:\\Professional\\Engineering CU\\DSP_Data_New\\un...</td>\n      <td>0</td>\n      <td>0.039748</td>\n      <td>0.004213</td>\n      <td>0.015745</td>\n      <td>0.000659</td>\n      <td>2328.297810</td>\n      <td>688890.333144</td>\n      <td>0.527444</td>\n      <td>0.472268</td>\n      <td>...</td>\n      <td>273.135925</td>\n      <td>274.134705</td>\n      <td>121.783401</td>\n      <td>157.892990</td>\n      <td>211.429337</td>\n      <td>204.492920</td>\n      <td>150.704941</td>\n      <td>35.732243</td>\n      <td>24.178911</td>\n      <td>42.259094</td>\n    </tr>\n    <tr>\n      <th>191</th>\n      <td>A:\\Professional\\Engineering CU\\DSP_Data_New\\un...</td>\n      <td>0</td>\n      <td>0.027424</td>\n      <td>0.000908</td>\n      <td>0.010619</td>\n      <td>0.000160</td>\n      <td>3183.454447</td>\n      <td>38762.860722</td>\n      <td>0.675968</td>\n      <td>0.644536</td>\n      <td>...</td>\n      <td>45.403637</td>\n      <td>47.550270</td>\n      <td>8.509048</td>\n      <td>2.732464</td>\n      <td>10.899345</td>\n      <td>9.667048</td>\n      <td>3.622254</td>\n      <td>0.448042</td>\n      <td>0.365600</td>\n      <td>0.330244</td>\n    </tr>\n  </tbody>\n</table>\n<p>192 rows × 264 columns</p>\n</div>"
     },
     "execution_count": 8,
     "metadata": {},
     "output_type": "execute_result"
    }
   ],
   "source": [
    "features_df = pd.DataFrame()\n",
    "features_df['data'] = password['data'].copy()\n",
    "features_df['pass'] = password['pass'].copy()\n",
    "\n",
    "for i in tqdm(range(features_length)):\n",
    "    features_df[f'feature {i}'] = np.zeros(samples_no)\n",
    "\n",
    "temp_array = []\n",
    "for index, row in tqdm(features_df.iloc[:].iterrows()):\n",
    "    if index < len(features_df)-1:\n",
    "        array_1 = transform_audio(features_df.loc[index, ['data']][0], FRAMESIZE, HOPLENGTH, MELS)\n",
    "        array_2 = transform_audio(features_df.loc[index+1, ['data']][0], FRAMESIZE, HOPLENGTH, MELS)\n",
    "        combined_array = np.vstack((array_1, array_2))[0]\n",
    "        temp_array.append(list(combined_array))\n",
    "\n",
    "last_element = transform_audio(features_df.loc[len(features_df)-1, ['data']][0], FRAMESIZE, HOPLENGTH, MELS)\n",
    "temp_array.append(list(last_element))\n",
    "\n",
    "\n",
    "features_df.iloc[:,2:] = pd.DataFrame(temp_array).copy()\n",
    "features_df"
   ],
   "metadata": {
    "collapsed": false
   }
  },
  {
   "cell_type": "code",
   "execution_count": 9,
   "outputs": [],
   "source": [
    "# features_df.iloc[:,2:].to_csv(\"..\\\\..\\\\data\\\\password_data.csv\", index=False)\n",
    "# features_df['pass'].to_csv('..\\\\..\\\\data\\\\password_target.csv', index=False)"
   ],
   "metadata": {
    "collapsed": false
   }
  },
  {
   "cell_type": "code",
   "execution_count": 9,
   "outputs": [],
   "source": [],
   "metadata": {
    "collapsed": false
   }
  }
 ],
 "metadata": {
  "kernelspec": {
   "display_name": "Python 3",
   "language": "python",
   "name": "python3"
  },
  "language_info": {
   "codemirror_mode": {
    "name": "ipython",
    "version": 2
   },
   "file_extension": ".py",
   "mimetype": "text/x-python",
   "name": "python",
   "nbconvert_exporter": "python",
   "pygments_lexer": "ipython2",
   "version": "2.7.6"
  }
 },
 "nbformat": 4,
 "nbformat_minor": 0
}
