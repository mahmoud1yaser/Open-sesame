{
 "cells": [
  {
   "cell_type": "code",
   "execution_count": 1,
   "metadata": {
    "collapsed": true
   },
   "outputs": [],
   "source": [
    "import librosa\n",
    "import soundfile as sf\n",
    "import os\n",
    "import warnings\n",
    "from audiomentations import Compose, AddGaussianNoise, PitchShift, Gain\n",
    "warnings.filterwarnings(\"ignore\")"
   ]
  },
  {
   "cell_type": "code",
   "execution_count": 2,
   "outputs": [],
   "source": [
    "augment_raw_audio = Compose(\n",
    "    [\n",
    "        Gain(min_gain_in_db=-6.0, max_gain_in_db=6.0, p=1),\n",
    "        PitchShift(min_semitones=-6, max_semitones=6, p=1),\n",
    "        AddGaussianNoise(min_amplitude=0.001, max_amplitude=0.005, p=1),\n",
    "    ]\n",
    ")"
   ],
   "metadata": {
    "collapsed": false
   }
  },
  {
   "cell_type": "code",
   "execution_count": 3,
   "outputs": [],
   "source": [
    "# Cluster data for future work\n",
    "opd_data = []\n",
    "others_data = []\n",
    "directory= \"A:\\Professional\\Engineering CU\\DSP_Data_New\"\n",
    "for dir in os.listdir(directory):\n",
    "    if dir == \"open the door\":\n",
    "        for filename in os.listdir(os.path.join(directory, dir)):\n",
    "            path_opd = os.path.join(directory, dir, filename)\n",
    "            opd_data.append(path_opd)\n",
    "    else:\n",
    "        for filename in os.listdir(os.path.join(directory, dir)):\n",
    "            path_others = os.path.join(directory, dir, filename)\n",
    "            others_data.append(path_others)"
   ],
   "metadata": {
    "collapsed": false
   }
  },
  {
   "cell_type": "code",
   "execution_count": 4,
   "outputs": [],
   "source": [
    "# Group all the data\n",
    "data = []\n",
    "data.extend(opd_data)\n",
    "data.extend(others_data)"
   ],
   "metadata": {
    "collapsed": false
   }
  },
  {
   "cell_type": "code",
   "execution_count": 8,
   "outputs": [],
   "source": [
    "for i in range(len(data)):\n",
    "    signal, sr = librosa.load(data[i])\n",
    "    augmented_signal = augment_raw_audio(signal, sr)\n",
    "    sf.write(f\"{data[i].split('.')[0]}_augmented.wav\", augmented_signal, sr)"
   ],
   "metadata": {
    "collapsed": false
   }
  },
  {
   "cell_type": "code",
   "execution_count": null,
   "outputs": [],
   "source": [],
   "metadata": {
    "collapsed": false
   }
  }
 ],
 "metadata": {
  "kernelspec": {
   "display_name": "Python 3",
   "language": "python",
   "name": "python3"
  },
  "language_info": {
   "codemirror_mode": {
    "name": "ipython",
    "version": 2
   },
   "file_extension": ".py",
   "mimetype": "text/x-python",
   "name": "python",
   "nbconvert_exporter": "python",
   "pygments_lexer": "ipython2",
   "version": "2.7.6"
  }
 },
 "nbformat": 4,
 "nbformat_minor": 0
}
