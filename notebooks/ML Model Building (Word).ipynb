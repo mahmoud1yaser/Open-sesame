{
 "cells": [
  {
   "cell_type": "markdown",
   "id": "7377eb43",
   "metadata": {},
   "source": [
    "# Classic ML Model Building Notebook - Word Modeling"
   ]
  },
  {
   "cell_type": "markdown",
   "id": "ec6445e9",
   "metadata": {},
   "source": [
    "## Import Packages"
   ]
  },
  {
   "cell_type": "code",
   "execution_count": 1,
   "id": "809f1ced",
   "metadata": {},
   "outputs": [],
   "source": [
    "# Audio processing\n",
    "import librosa\n",
    "import librosa.display as ld\n",
    "import IPython.display as ipd\n",
    "# Data cleaning\n",
    "import os\n",
    "import pandas as pd\n",
    "import numpy as np\n",
    "from numpy import mean, var\n",
    "# Data visualization\n",
    "import matplotlib.pyplot as plt\n",
    "# Machine learning\n",
    "import sklearn\n",
    "from sklearn import preprocessing\n",
    "from sklearn.svm import SVC\n",
    "from sklearn.ensemble import RandomForestClassifier\n",
    "from xgboost import XGBClassifier\n",
    "from sklearn.linear_model import LogisticRegression  \n",
    "from sklearn.model_selection import train_test_split, KFold, cross_val_score\n",
    "from sklearn.model_selection import GridSearchCV\n",
    "from sklearn.model_selection import train_test_split\n",
    "from sklearn.model_selection import RandomizedSearchCV\n",
    "from sklearn.metrics import accuracy_score, confusion_matrix\n",
    "from sklearn.decomposition import PCA\n",
    "from sklearn.preprocessing import StandardScaler\n",
    "# Advanced options\n",
    "import warnings\n",
    "from tqdm import tqdm\n",
    "warnings.filterwarnings(\"ignore\")\n",
    "import pickle"
   ]
  },
  {
   "cell_type": "markdown",
   "id": "551f3f2d",
   "metadata": {},
   "source": [
    "--------------"
   ]
  },
  {
   "cell_type": "markdown",
   "id": "a99278aa",
   "metadata": {},
   "source": [
    "------------------"
   ]
  },
  {
   "cell_type": "markdown",
   "id": "c9681c54",
   "metadata": {},
   "source": [
    "## Define Constants"
   ]
  },
  {
   "cell_type": "code",
   "execution_count": 2,
   "id": "df4ace45",
   "metadata": {},
   "outputs": [],
   "source": [
    "FRAMESIZE = 1024\n",
    "HOPLENGTH = 512\n",
    "# 13 mels for fingerprint and more than 20 mels for word detection\n",
    "MELS = 20 \n",
    "SPLITFREQ = 2000\n",
    "PCA_N = 2"
   ]
  },
  {
   "cell_type": "markdown",
   "id": "ec259996",
   "metadata": {},
   "source": [
    "-------------"
   ]
  },
  {
   "cell_type": "markdown",
   "id": "eef3c647",
   "metadata": {},
   "source": [
    "----------"
   ]
  },
  {
   "cell_type": "markdown",
   "id": "6279aeae",
   "metadata": {},
   "source": [
    "## Read Data"
   ]
  },
  {
   "cell_type": "code",
   "execution_count": 3,
   "id": "c9841c9d",
   "metadata": {},
   "outputs": [
    {
     "data": {
      "text/plain": [
       "(96, 5)"
      ]
     },
     "execution_count": 3,
     "metadata": {},
     "output_type": "execute_result"
    }
   ],
   "source": [
    "df_small_chunk = pd.read_csv('A:\\OpenSesame\\data\\\\small_chunk_word.csv')\n",
    "df_big_chunk = pd.read_csv('A:\\OpenSesame\\data\\\\big_chunk_word.csv')\n",
    "\n",
    "xs_features = np.array(df_small_chunk.iloc[:,:])\n",
    "xb_features = np.array(df_big_chunk.iloc[:,:])\n",
    "xb_features.shape"
   ]
  },
  {
   "cell_type": "code",
   "execution_count": 4,
   "id": "3e404534",
   "metadata": {},
   "outputs": [],
   "source": [
    "y_features = pd.read_csv('A:\\OpenSesame\\data\\\\target_data_word.csv')\n",
    "y_features = np.array(y_features.iloc[:,:])"
   ]
  },
  {
   "cell_type": "code",
   "execution_count": 5,
   "id": "be37be50",
   "metadata": {},
   "outputs": [
    {
     "data": {
      "text/plain": [
       "['feature 0', 'feature 2', 'feature 6', 'feature 7', 'feature 9']"
      ]
     },
     "execution_count": 5,
     "metadata": {},
     "output_type": "execute_result"
    }
   ],
   "source": [
    "best_features_small = list(np.loadtxt(open('A:\\OpenSesame\\data\\\\word_features_small.csv'), delimiter=\",\", dtype='str'))\n",
    "best_features_big = list(np.loadtxt(open('A:\\OpenSesame\\data\\\\word_features_big.csv'), delimiter=\",\", dtype='str'))\n",
    "best_features_small"
   ]
  },
  {
   "cell_type": "code",
   "execution_count": 6,
   "id": "99c08b67",
   "metadata": {},
   "outputs": [
    {
     "data": {
      "text/plain": [
       "(96, 5)"
      ]
     },
     "execution_count": 6,
     "metadata": {},
     "output_type": "execute_result"
    }
   ],
   "source": [
    "xb_features.shape"
   ]
  },
  {
   "cell_type": "markdown",
   "id": "3d6d8320",
   "metadata": {},
   "source": [
    "------"
   ]
  },
  {
   "cell_type": "markdown",
   "id": "07e85df1",
   "metadata": {},
   "source": [
    "-----------"
   ]
  },
  {
   "cell_type": "markdown",
   "id": "1e00efbf",
   "metadata": {},
   "source": [
    "## Data Modeling"
   ]
  },
  {
   "cell_type": "markdown",
   "id": "fcff92e7",
   "metadata": {},
   "source": [
    "- We will model the data with those five classifiers:\n",
    "    - Logistic Regression\n",
    "    - XGBoost\n",
    "    - SVM\n",
    "    - Random Forest \n",
    "- And we will model the Big-Chunk-Data vs Small-Chunk-Data and compare between them."
   ]
  },
  {
   "cell_type": "markdown",
   "id": "a4a9dfbd",
   "metadata": {},
   "source": [
    "### Hyperparameters Tuning"
   ]
  },
  {
   "cell_type": "code",
   "execution_count": 7,
   "id": "ed3f4581",
   "metadata": {},
   "outputs": [],
   "source": [
    "xs_train, xs_test, y_train, y_test = train_test_split(xs_features, y_features, test_size=0.3)\n",
    "xb_train, xb_test, y_train, y_test = train_test_split(xb_features, y_features, test_size=0.3)"
   ]
  },
  {
   "cell_type": "markdown",
   "id": "a739663e",
   "metadata": {},
   "source": [
    "1- Logistic Regression"
   ]
  },
  {
   "cell_type": "code",
   "execution_count": 8,
   "id": "6d37ecc6",
   "metadata": {},
   "outputs": [],
   "source": [
    "# # Small chunk \n",
    "# LR = LogisticRegression()\n",
    "# LRparam_grid = {\n",
    "#     'C': [0.001, 0.01, 0.1, 1, 10, 100, 1000],\n",
    "#     'penalty': ['l1', 'l2'],\n",
    "#     # 'max_iter': list(range(100,800,100)),\n",
    "#     'solver': ['newton-cg', 'lbfgs', 'liblinear', 'sag', 'saga']\n",
    "# }\n",
    "# LR_search = GridSearchCV(LR, param_grid=LRparam_grid, refit = True, verbose = 3, cv=5)\n",
    "\n",
    "# # fitting the model for grid search \n",
    "# LR_search.fit(xs_train , y_train)\n",
    "# LR_search.best_params_\n",
    "# # summarize\n",
    "# print('Mean Accuracy: %.3f' % LR_search.best_score_)\n",
    "# print('Config: %s' % LR_search.best_params_)"
   ]
  },
  {
   "cell_type": "code",
   "execution_count": 9,
   "id": "33fb9fd3",
   "metadata": {},
   "outputs": [],
   "source": [
    "# # Big chunk \n",
    "# LR = LogisticRegression()\n",
    "# LRparam_grid = {\n",
    "#     'C': [0.001, 0.01, 0.1, 1, 10, 100, 1000],\n",
    "#     'penalty': ['l1', 'l2'],\n",
    "#     # 'max_iter': list(range(100,800,100)),\n",
    "#     'solver': ['newton-cg', 'lbfgs', 'liblinear', 'sag', 'saga']\n",
    "# }\n",
    "# LR_search = GridSearchCV(LR, param_grid=LRparam_grid, refit = True, verbose = 3, cv=5)\n",
    "\n",
    "# # fitting the model for grid search \n",
    "# LR_search.fit(xb_train , y_train)\n",
    "# LR_search.best_params_\n",
    "# # summarize\n",
    "# print('Mean Accuracy: %.3f' % LR_search.best_score_)\n",
    "# print('Config: %s' % LR_search.best_params_)"
   ]
  },
  {
   "cell_type": "markdown",
   "id": "ca1c5335",
   "metadata": {},
   "source": [
    "- LR Hyperparameters:\n",
    "    - Small-chunk {'C': 0.01, 'penalty': 'l1', 'solver': 'liblinear'}\n",
    "    - Big-chunk {'C': 0.1, 'penalty': 'l2', 'solver': 'newton-cg'}"
   ]
  },
  {
   "cell_type": "markdown",
   "id": "4a45789c",
   "metadata": {},
   "source": [
    "-----"
   ]
  },
  {
   "cell_type": "markdown",
   "id": "5c319917",
   "metadata": {},
   "source": [
    "2- XGBoost"
   ]
  },
  {
   "cell_type": "code",
   "execution_count": 10,
   "id": "3c5221f2",
   "metadata": {},
   "outputs": [],
   "source": [
    "# # Small chunk\n",
    "# def random_search_tuning():\n",
    "#     # define the train set and test set\n",
    "#     x_train, x_val, y_train, y_val = train_test_split(xs_features, y_features, test_size=0.05)\n",
    "#     print(\"Shapes - X_train: \", x_train.shape,\n",
    "#           \", X_val: \", x_val.shape, \", y_train: \",\n",
    "#           y_train.shape, \", y_val: \", y_val.shape)\n",
    "\n",
    "#     params = {'max_depth': [3, 6, 10, 15],\n",
    "#               'learning_rate': [0.01, 0.1, 0.2, 0.3, 0.4],\n",
    "#               'subsample': np.arange(0.5, 1.0, 0.1),\n",
    "#               'colsample_bytree': np.arange(0.5, 1.0, 0.1),\n",
    "#               'colsample_bylevel': np.arange(0.5, 1.0, 0.1),\n",
    "#               'n_estimators': [100, 250, 500, 750],\n",
    "#               'num_class': [10]\n",
    "#               }\n",
    "\n",
    "#     xgbclf = XGBClassifier(objective=\"multi:softmax\", tree_method='hist', random_state=0)\n",
    "#     clf = RandomizedSearchCV(estimator=xgbclf,\n",
    "#                              param_distributions=params,\n",
    "#                              scoring='accuracy',\n",
    "#                              n_iter=25,\n",
    "#                              n_jobs=4,\n",
    "#                              verbose=1)\n",
    "\n",
    "#     clf.fit(x_train, y_train)\n",
    "\n",
    "#     best_combination = clf.best_params_\n",
    "\n",
    "#     return best_combination\n",
    "\n",
    "\n",
    "# best_params = random_search_tuning()\n",
    "# print(\"Best hyperparameter combination: \", best_params)"
   ]
  },
  {
   "cell_type": "code",
   "execution_count": 11,
   "id": "1ff292cf",
   "metadata": {},
   "outputs": [],
   "source": [
    "# # Big chunk\n",
    "# def random_search_tuning():\n",
    "#     # define the train set and test set\n",
    "#     x_train, x_val, y_train, y_val = train_test_split(xb_features, y_features, test_size=0.05)\n",
    "#     print(\"Shapes - X_train: \", x_train.shape,\n",
    "#           \", X_val: \", x_val.shape, \", y_train: \",\n",
    "#           y_train.shape, \", y_val: \", y_val.shape)\n",
    "\n",
    "#     params = {'max_depth': [3, 6, 10, 15],\n",
    "#               'learning_rate': [0.01, 0.1, 0.2, 0.3, 0.4],\n",
    "#               'subsample': np.arange(0.5, 1.0, 0.1),\n",
    "#               'colsample_bytree': np.arange(0.5, 1.0, 0.1),\n",
    "#               'colsample_bylevel': np.arange(0.5, 1.0, 0.1),\n",
    "#               'n_estimators': [100, 250, 500, 750],\n",
    "#               'num_class': [10]\n",
    "#               }\n",
    "\n",
    "#     xgbclf = XGBClassifier(objective=\"multi:softmax\", tree_method='hist', random_state=0)\n",
    "#     clf = RandomizedSearchCV(estimator=xgbclf,\n",
    "#                              param_distributions=params,\n",
    "#                              scoring='accuracy',\n",
    "#                              n_iter=25,\n",
    "#                              n_jobs=4,\n",
    "#                              verbose=1)\n",
    "\n",
    "#     clf.fit(x_train, y_train)\n",
    "\n",
    "#     best_combination = clf.best_params_\n",
    "\n",
    "#     return best_combination\n",
    "\n",
    "\n",
    "# best_params = random_search_tuning()\n",
    "# print(\"Best hyperparameter combination: \", best_params)"
   ]
  },
  {
   "cell_type": "markdown",
   "id": "1e3959ba",
   "metadata": {},
   "source": [
    "- XGBoost Hyperparameters:\n",
    "    - Small chunk {'subsample': 0.7999999999999999, 'num_class': 10, 'n_estimators': 100, 'max_depth': 15, 'learning_rate': 0.1, 'colsample_bytree': 0.7, 'colsample_bylevel': 0.8999999999999999}\n",
    "    - Big chunk {'subsample': 0.7999999999999999, 'num_class': 10, 'n_estimators': 250, 'max_depth': 10, 'learning_rate': 0.4, 'colsample_bytree': 0.8999999999999999, 'colsample_bylevel': 0.7999999999999999}"
   ]
  },
  {
   "cell_type": "markdown",
   "id": "131c0100",
   "metadata": {},
   "source": [
    "---------"
   ]
  },
  {
   "cell_type": "markdown",
   "id": "6b6be4d9",
   "metadata": {},
   "source": [
    "3- SVM"
   ]
  },
  {
   "cell_type": "code",
   "execution_count": 12,
   "id": "a3fe3bdd",
   "metadata": {},
   "outputs": [],
   "source": [
    "# # Small-chunk\n",
    "# parameters = {\n",
    "#     \"kernel\": [\"linear\",\"rbf\"],\n",
    "#     \"C\":[0.1,1,10]\n",
    "# }\n",
    "\n",
    "# svm = SVC()\n",
    "# cv = GridSearchCV(svm,parameters,cv=5)\n",
    "# cv.fit(xs_features,y_features) \n",
    "\n",
    "# def display(results):\n",
    "#     print(f'Best parameters are: {results.best_params_}')\n",
    "#     mean_score = results.cv_results_['mean_test_score']\n",
    "#     std_score = results.cv_results_['std_test_score']\n",
    "#     params = results.cv_results_['params']\n",
    "#     for mean,std,params in tqdm(zip(mean_score,std_score,params)):\n",
    "#         print(f'{round(mean,2)} + or -{round(std,2)} for the {params}')\n",
    "\n",
    "# display(cv)"
   ]
  },
  {
   "cell_type": "code",
   "execution_count": 13,
   "id": "7cd471e7",
   "metadata": {
    "scrolled": true
   },
   "outputs": [],
   "source": [
    "# # Big-chunk\n",
    "# parameters = {\n",
    "#     \"kernel\": [\"linear\",\"rbf\"],\n",
    "#     \"C\":[0.1,1,10]\n",
    "# }\n",
    "\n",
    "# svm = SVC()\n",
    "# cv = GridSearchCV(svm,parameters,cv=5)\n",
    "# cv.fit(xb_features,y_features) \n",
    "\n",
    "# def display(results):\n",
    "#     print(f'Best parameters are: {results.best_params_}')\n",
    "#     mean_score = results.cv_results_['mean_test_score']\n",
    "#     std_score = results.cv_results_['std_test_score']\n",
    "#     params = results.cv_results_['params']\n",
    "#     for mean,std,params in tqdm(zip(mean_score,std_score,params)):\n",
    "#         print(f'{round(mean,2)} + or -{round(std,2)} for the {params}')\n",
    "\n",
    "# display(cv)"
   ]
  },
  {
   "cell_type": "markdown",
   "id": "0a546fd0",
   "metadata": {},
   "source": [
    "- SVM hyperparameters\n",
    "    - Small chunk {'C': 10, 'kernel': 'rbf'}\n",
    "    - Big chunk {'C': 10, 'kernel': 'linear'}"
   ]
  },
  {
   "cell_type": "markdown",
   "id": "6bc27727",
   "metadata": {},
   "source": [
    "-----"
   ]
  },
  {
   "cell_type": "markdown",
   "id": "e41ff133",
   "metadata": {},
   "source": [
    "4- Random Forest"
   ]
  },
  {
   "cell_type": "code",
   "execution_count": 14,
   "id": "ff21a106",
   "metadata": {},
   "outputs": [],
   "source": [
    "# # Small-chunk\n",
    "# # Number of trees in random forest\n",
    "# n_estimators = [int(x) for x in range(200,2000,200)]\n",
    "# # Number of features to consider at every split\n",
    "# max_features = ['auto', 'sqrt']\n",
    "# # Maximum number of levels in tree\n",
    "# max_depth = [int(x) for x in np.linspace(10, 110, num = 11)]\n",
    "# max_depth.append(None)\n",
    "# # Minimum number of samples required to split a node\n",
    "# min_samples_split = [2, 5, 10]\n",
    "# # Minimum number of samples required at each leaf node\n",
    "# min_samples_leaf = [1, 2, 4]\n",
    "# # Method of selecting samples for training each tree\n",
    "# bootstrap = [True, False]\n",
    "# # Create the random grid\n",
    "# random_grid = {'n_estimators': n_estimators,\n",
    "#                'max_features': max_features,\n",
    "#                'max_depth': max_depth,\n",
    "#                'min_samples_split': min_samples_split,\n",
    "#                'min_samples_leaf': min_samples_leaf,\n",
    "#                'bootstrap': bootstrap}\n",
    "\n",
    "# # Use the random grid to search for best hyperparameters\n",
    "# # First create the base model to tune\n",
    "# rf = RandomForestClassifier()\n",
    "# # Random search of parameters, using 3 fold cross validation, \n",
    "# # search across 100 different combinations, and use all available cores\n",
    "# rf_random = RandomizedSearchCV(estimator = rf, param_distributions = random_grid, n_iter = 100, cv = 3, verbose=2, random_state=42, n_jobs = -1)\n",
    "# # Fit the random search model\n",
    "# rf_random.fit(xs_train, y_train)\n",
    "\n",
    "\n",
    "# def evaluate(model, test_features, test_labels):\n",
    "#     y_pred = model.predict(test_features)\n",
    "#     accuracy = accuracy_score(y_test, y_pred)\n",
    "#     print (accuracy)\n",
    "#     print(confusion_matrix(y_test,y_pred))\n",
    "    \n",
    "\n",
    "# best_random = rf_random.best_estimator_\n",
    "# evaluate(best_random, xs_test, y_test)\n",
    "\n",
    "# print(rf_random.best_params_)"
   ]
  },
  {
   "cell_type": "code",
   "execution_count": 15,
   "id": "fa3f5558",
   "metadata": {},
   "outputs": [],
   "source": [
    "# # Big-chunk\n",
    "# # Number of trees in random forest\n",
    "# n_estimators = [int(x) for x in range(200,2000,200)]\n",
    "# # Number of features to consider at every split\n",
    "# max_features = ['auto', 'sqrt']\n",
    "# # Maximum number of levels in tree\n",
    "# max_depth = [int(x) for x in np.linspace(10, 110, num = 11)]\n",
    "# max_depth.append(None)\n",
    "# # Minimum number of samples required to split a node\n",
    "# min_samples_split = [2, 5, 10]\n",
    "# # Minimum number of samples required at each leaf node\n",
    "# min_samples_leaf = [1, 2, 4]\n",
    "# # Method of selecting samples for training each tree\n",
    "# bootstrap = [True, False]\n",
    "# # Create the random grid\n",
    "# random_grid = {'n_estimators': n_estimators,\n",
    "#                'max_features': max_features,\n",
    "#                'max_depth': max_depth,\n",
    "#                'min_samples_split': min_samples_split,\n",
    "#                'min_samples_leaf': min_samples_leaf,\n",
    "#                'bootstrap': bootstrap}\n",
    "\n",
    "# # Use the random grid to search for best hyperparameters\n",
    "# # First create the base model to tune\n",
    "# rf = RandomForestClassifier()\n",
    "# # Random search of parameters, using 3 fold cross validation, \n",
    "# # search across 100 different combinations, and use all available cores\n",
    "# rf_random = RandomizedSearchCV(estimator = rf, param_distributions = random_grid, n_iter = 100, cv = 3, verbose=2, random_state=42, n_jobs = -1)\n",
    "# # Fit the random search model\n",
    "# rf_random.fit(xb_train, y_train)\n",
    "\n",
    "\n",
    "# def evaluate(model, test_features, test_labels):\n",
    "#     y_pred = model.predict(test_features)\n",
    "#     accuracy = accuracy_score(y_test, y_pred)\n",
    "#     print (accuracy)\n",
    "#     print(confusion_matrix(y_test,y_pred))\n",
    "    \n",
    "\n",
    "# best_random = rf_random.best_estimator_\n",
    "# evaluate(best_random, xb_test, y_test)\n",
    "\n",
    "# print(rf_random.best_params_)"
   ]
  },
  {
   "cell_type": "markdown",
   "id": "2561705a",
   "metadata": {},
   "source": [
    "- Random Forest Hyperparameters\n",
    "    - {'n_estimators': 600, 'min_samples_split': 2, 'min_samples_leaf': 1, 'max_features': 'sqrt', 'max_depth': 110, 'bootstrap': True}\n",
    "    - Big chunk {'n_estimators': 200, 'min_samples_split': 2, 'min_samples_leaf': 2, 'max_features': 'auto', 'max_depth': 70, 'bootstrap': True}"
   ]
  },
  {
   "cell_type": "markdown",
   "id": "5ae6942c",
   "metadata": {},
   "source": [
    "--------------"
   ]
  },
  {
   "cell_type": "markdown",
   "id": "031bff58",
   "metadata": {},
   "source": [
    "### Model Selection"
   ]
  },
  {
   "cell_type": "code",
   "execution_count": 16,
   "id": "71dba2fb",
   "metadata": {},
   "outputs": [],
   "source": [
    "def train_model(model, x_features, y_features, pca='yes', chunk='small'):\n",
    "    \n",
    "    x_train, x_test, y_train, y_test = train_test_split(x_features, y_features, test_size=0.3)\n",
    "    sc = StandardScaler()\n",
    "    pca = PCA(n_components = PCA_N)\n",
    "    \n",
    "    x_train = sc.fit_transform(x_train)\n",
    "    x_test = sc.transform(x_test)\n",
    "    \n",
    "    if pca == 'yes':\n",
    "        x_train = pca.fit_transform(x_train)\n",
    "        x_features = pca.fit_transform(x_features)\n",
    "        x_test = pca.transform(x_test)\n",
    "    \n",
    "    model.fit(x_train, y_train.ravel())\n",
    "    y_pred = model.predict(x_test)\n",
    "    \n",
    "    cm = confusion_matrix(y_test, y_pred)\n",
    "    accuracy = accuracy_score(y_test, model.predict(x_test))\n",
    "    score = cross_val_score(model, x_features, y_features, cv=KFold(n_splits=15))\n",
    "        \n",
    "    print(f'Model Accuracy = {accuracy}\\n Confusion Matrix = {cm} \\n Avg Cross Validation Score = {score.mean()}')\n",
    "    \n",
    "    return model"
   ]
  },
  {
   "cell_type": "markdown",
   "id": "aedda552",
   "metadata": {},
   "source": [
    "#### Small Chunk Data"
   ]
  },
  {
   "cell_type": "code",
   "execution_count": 17,
   "id": "796cf974",
   "metadata": {},
   "outputs": [],
   "source": [
    "lrs = LogisticRegression(random_state = 0, C = 0.01, penalty = 'l1', solver = 'liblinear')\n",
    "xgbs = XGBClassifier(objective=\"multi:softmax\", tree_method='hist', random_state=0, subsample = 0.7999999999999999, num_class = 10, n_estimators = 100, max_depth = 15, learning_rate = 0.1, colsample_bytree = 0.7, colsample_bylevel = 0.8999999999999999)\n",
    "svms = SVC(C=10, kernel='rbf', random_state = 0)\n",
    "rfs = RandomForestClassifier(random_state = 0, n_estimators=600, min_samples_split=2, min_samples_leaf=1, max_features='sqrt', max_depth=110, bootstrap=True)"
   ]
  },
  {
   "cell_type": "code",
   "execution_count": 18,
   "id": "f1fbd885",
   "metadata": {},
   "outputs": [
    {
     "name": "stdout",
     "output_type": "stream",
     "text": [
      "Logistic Regression without PCA \n",
      "\n",
      "Model Accuracy = 0.4827586206896552\n",
      " Confusion Matrix = [[14  0]\n",
      " [15  0]] \n",
      " Avg Cross Validation Score = 0.6\n",
      "\n",
      "\n",
      "Logistic Regression with PCA \n",
      "\n",
      "Model Accuracy = 0.5172413793103449\n",
      " Confusion Matrix = [[15  0]\n",
      " [14  0]] \n",
      " Avg Cross Validation Score = 0.6\n"
     ]
    }
   ],
   "source": [
    "# without PCA\n",
    "print(f\"Logistic Regression without PCA \\n\")\n",
    "lr_s = train_model(lrs, xs_features, y_features)\n",
    "     \n",
    "print('\\n')\n",
    "# with PCA\n",
    "print(f\"Logistic Regression with PCA \\n\")\n",
    "lr_s = train_model(lrs, xs_features, y_features, pca='yes')"
   ]
  },
  {
   "cell_type": "code",
   "execution_count": 19,
   "id": "1984c90b",
   "metadata": {},
   "outputs": [
    {
     "name": "stdout",
     "output_type": "stream",
     "text": [
      "XGBoost without PCA \n",
      "\n",
      "Model Accuracy = 0.6206896551724138\n",
      " Confusion Matrix = [[9 7]\n",
      " [4 9]] \n",
      " Avg Cross Validation Score = 0.503174603174603\n",
      "\n",
      "\n",
      "XGBoost with PCA \n",
      "\n",
      "Model Accuracy = 0.8275862068965517\n",
      " Confusion Matrix = [[13  5]\n",
      " [ 0 11]] \n",
      " Avg Cross Validation Score = 0.503174603174603\n"
     ]
    }
   ],
   "source": [
    "# without PCA\n",
    "print(f\"XGBoost without PCA \\n\")\n",
    "xgb_s = train_model(xgbs, xs_features, y_features)\n",
    "\n",
    "print('\\n')\n",
    "# with PCA\n",
    "print(f\"XGBoost with PCA \\n\")\n",
    "xgb_s = train_model(xgbs, xs_features, y_features, pca='yes')"
   ]
  },
  {
   "cell_type": "code",
   "execution_count": 20,
   "id": "2b41ca7a",
   "metadata": {},
   "outputs": [
    {
     "name": "stdout",
     "output_type": "stream",
     "text": [
      "SVM without PCA \n",
      "\n",
      "Model Accuracy = 0.6551724137931034\n",
      " Confusion Matrix = [[14  5]\n",
      " [ 5  5]] \n",
      " Avg Cross Validation Score = 0.5777777777777777\n",
      "\n",
      "\n",
      "SVM with PCA \n",
      "\n",
      "Model Accuracy = 0.7586206896551724\n",
      " Confusion Matrix = [[13  2]\n",
      " [ 5  9]] \n",
      " Avg Cross Validation Score = 0.5777777777777777\n"
     ]
    }
   ],
   "source": [
    "# without PCA\n",
    "print(f\"SVM without PCA \\n\")\n",
    "svm_s = train_model(svms, xs_features, y_features)\n",
    "\n",
    "\n",
    "print('\\n')\n",
    "# with PCA\n",
    "print(f\"SVM with PCA \\n\")\n",
    "svm_s = train_model(svms, xs_features, y_features, pca='yes')"
   ]
  },
  {
   "cell_type": "code",
   "execution_count": 21,
   "id": "b3b9154d",
   "metadata": {
    "scrolled": true
   },
   "outputs": [
    {
     "name": "stdout",
     "output_type": "stream",
     "text": [
      "Random Forest without PCA \n",
      "\n",
      "Model Accuracy = 0.6551724137931034\n",
      " Confusion Matrix = [[ 9  4]\n",
      " [ 6 10]] \n",
      " Avg Cross Validation Score = 0.5380952380952381\n",
      "\n",
      "\n",
      "Random Forest with PCA \n",
      "\n",
      "Model Accuracy = 0.6896551724137931\n",
      " Confusion Matrix = [[10  5]\n",
      " [ 4 10]] \n",
      " Avg Cross Validation Score = 0.5380952380952381\n"
     ]
    }
   ],
   "source": [
    "# without PCA\n",
    "print(f\"Random Forest without PCA \\n\")\n",
    "rf_s = train_model(rfs, xs_features, y_features)\n",
    "\n",
    "\n",
    "print('\\n')\n",
    "# with PCA\n",
    "print(f\"Random Forest with PCA \\n\")\n",
    "rf_s = train_model(rfs, xs_features, y_features, pca='yes')"
   ]
  },
  {
   "cell_type": "markdown",
   "id": "65bc7820",
   "metadata": {},
   "source": [
    "#### Big Chunk Data"
   ]
  },
  {
   "cell_type": "code",
   "execution_count": 22,
   "id": "6e8a9f66",
   "metadata": {},
   "outputs": [],
   "source": [
    "lrb = LogisticRegression(random_state = 0, C = 0.1, penalty = 'l2', solver = 'newton-cg')\n",
    "xgbb = XGBClassifier(objective=\"multi:softmax\", tree_method='hist', random_state=0, subsample = 0.7999999999999999, num_class = 10, n_estimators = 250, max_depth = 10, learning_rate = 0.4, colsample_bytree = 0.8999999999999999, colsample_bylevel = 0.7999999999999999)\n",
    "svmb = SVC(C=10, kernel='linear', random_state = 0)\n",
    "rfb = RandomForestClassifier(random_state = 0, n_estimators=200, min_samples_split=2, min_samples_leaf=2, max_features='auto', max_depth=70, bootstrap=True)"
   ]
  },
  {
   "cell_type": "code",
   "execution_count": 23,
   "id": "8751667f",
   "metadata": {},
   "outputs": [
    {
     "name": "stdout",
     "output_type": "stream",
     "text": [
      "Logistic Regression without PCA \n",
      "\n",
      "Model Accuracy = 0.6896551724137931\n",
      " Confusion Matrix = [[14  3]\n",
      " [ 6  6]] \n",
      " Avg Cross Validation Score = 0.5857142857142856\n",
      "\n",
      "\n",
      "Logistic Regression with PCA \n",
      "\n",
      "Model Accuracy = 0.6206896551724138\n",
      " Confusion Matrix = [[14  5]\n",
      " [ 6  4]] \n",
      " Avg Cross Validation Score = 0.5857142857142856\n"
     ]
    }
   ],
   "source": [
    "# without PCA\n",
    "print(f\"Logistic Regression without PCA \\n\")\n",
    "lr_b = train_model(lrb, xb_features, y_features, chunk='big')\n",
    "     \n",
    "print('\\n')\n",
    "# with PCA\n",
    "print(f\"Logistic Regression with PCA \\n\")\n",
    "lr_b = train_model(lrb, xb_features, y_features, pca='yes', chunk='big')"
   ]
  },
  {
   "cell_type": "code",
   "execution_count": 24,
   "id": "0bc1d158",
   "metadata": {},
   "outputs": [
    {
     "name": "stdout",
     "output_type": "stream",
     "text": [
      "XGBoost without PCA \n",
      "\n",
      "Model Accuracy = 0.6551724137931034\n",
      " Confusion Matrix = [[12  3]\n",
      " [ 7  7]] \n",
      " Avg Cross Validation Score = 0.5507936507936508\n",
      "\n",
      "\n",
      "XGBoost with PCA \n",
      "\n",
      "Model Accuracy = 0.6206896551724138\n",
      " Confusion Matrix = [[10  3]\n",
      " [ 8  8]] \n",
      " Avg Cross Validation Score = 0.5507936507936508\n"
     ]
    }
   ],
   "source": [
    "# without PCA\n",
    "print(f\"XGBoost without PCA \\n\")\n",
    "xgb_b = train_model(xgbb, xb_features, y_features, chunk='big')\n",
    "\n",
    "print('\\n')\n",
    "# with PCA\n",
    "print(f\"XGBoost with PCA \\n\")\n",
    "xgb_b = train_model(xgbb, xb_features, y_features, pca='yes', chunk='big')"
   ]
  },
  {
   "cell_type": "code",
   "execution_count": 25,
   "id": "c51777d7",
   "metadata": {},
   "outputs": [
    {
     "name": "stdout",
     "output_type": "stream",
     "text": [
      "SVM without PCA \n",
      "\n",
      "Model Accuracy = 0.5862068965517241\n",
      " Confusion Matrix = [[14  5]\n",
      " [ 7  3]] \n",
      " Avg Cross Validation Score = 0.6396825396825395\n",
      "\n",
      "\n",
      "SVM with PCA \n",
      "\n",
      "Model Accuracy = 0.6551724137931034\n",
      " Confusion Matrix = [[13  2]\n",
      " [ 8  6]] \n",
      " Avg Cross Validation Score = 0.6396825396825395\n"
     ]
    }
   ],
   "source": [
    "# without PCA\n",
    "print(f\"SVM without PCA \\n\")\n",
    "svm_b = train_model(svmb, xb_features, y_features, chunk='big')\n",
    "\n",
    "\n",
    "print('\\n')\n",
    "# with PCA\n",
    "print(f\"SVM with PCA \\n\")\n",
    "svm_b = train_model(svmb, xb_features, y_features, pca='yes', chunk='big')"
   ]
  },
  {
   "cell_type": "code",
   "execution_count": 26,
   "id": "cd84d49a",
   "metadata": {},
   "outputs": [
    {
     "name": "stdout",
     "output_type": "stream",
     "text": [
      "Random Forest without PCA \n",
      "\n",
      "Model Accuracy = 0.6206896551724138\n",
      " Confusion Matrix = [[12  6]\n",
      " [ 5  6]] \n",
      " Avg Cross Validation Score = 0.5555555555555556\n",
      "\n",
      "\n",
      "Random Forest with PCA \n",
      "\n",
      "Model Accuracy = 0.7931034482758621\n",
      " Confusion Matrix = [[14  2]\n",
      " [ 4  9]] \n",
      " Avg Cross Validation Score = 0.5555555555555556\n"
     ]
    }
   ],
   "source": [
    "# without PCA\n",
    "print(f\"Random Forest without PCA \\n\")\n",
    "rf_b = train_model(rfb, xb_features, y_features, chunk='big')\n",
    "\n",
    "\n",
    "print('\\n')\n",
    "# with PCA\n",
    "print(f\"Random Forest with PCA \\n\")\n",
    "rf_b = train_model(rfb, xb_features, y_features, pca='yes', chunk='big')"
   ]
  },
  {
   "cell_type": "markdown",
   "id": "3a027679",
   "metadata": {},
   "source": [
    "---------"
   ]
  },
  {
   "cell_type": "markdown",
   "id": "86d9e414",
   "metadata": {},
   "source": [
    "### Model Building"
   ]
  },
  {
   "cell_type": "markdown",
   "id": "7b54030f",
   "metadata": {},
   "source": [
    "- As the best model is the Small-chunk-PCA-XGBoost model"
   ]
  },
  {
   "cell_type": "markdown",
   "id": "b070ce1d",
   "metadata": {},
   "source": [
    "Implementation and a little visualization to see our XGBoost Model"
   ]
  },
  {
   "cell_type": "code",
   "execution_count": 27,
   "id": "cf92ce53",
   "metadata": {},
   "outputs": [],
   "source": [
    "# Split big-chunk-data into (70%) train data and (30%) test data\n",
    "xb_train, xb_test, y_train, y_test = train_test_split(xs_features, y_features, test_size=0.3)"
   ]
  },
  {
   "cell_type": "code",
   "execution_count": 28,
   "id": "f3619449",
   "metadata": {},
   "outputs": [],
   "source": [
    "# performing preprocessing part\n",
    "sc = StandardScaler()\n",
    "  \n",
    "xs_train = sc.fit_transform(xs_train)\n",
    "xs_test = sc.transform(xs_test)\n",
    "\n",
    "xb_train = sc.fit_transform(xb_train)\n",
    "xb_test = sc.transform(xb_test)\n",
    "\n",
    "# print(xs_train.shape)\n",
    "# print(xb_train.shape)\n",
    "\n",
    "#-----------------------------------------------\n",
    "\n",
    "pca = PCA(n_components = PCA_N)\n",
    "xs_train_pca = pca.fit_transform(xs_train)\n",
    "xs_test_pca = pca.transform(xs_test)\n",
    "\n",
    "xb_train_pca = pca.fit_transform(xb_train)\n",
    "xb_test_pca = pca.transform(xb_test)"
   ]
  },
  {
   "cell_type": "code",
   "execution_count": 29,
   "id": "b32f64ff",
   "metadata": {},
   "outputs": [
    {
     "data": {
      "text/html": [
       "<style>#sk-container-id-1 {color: black;background-color: white;}#sk-container-id-1 pre{padding: 0;}#sk-container-id-1 div.sk-toggleable {background-color: white;}#sk-container-id-1 label.sk-toggleable__label {cursor: pointer;display: block;width: 100%;margin-bottom: 0;padding: 0.3em;box-sizing: border-box;text-align: center;}#sk-container-id-1 label.sk-toggleable__label-arrow:before {content: \"▸\";float: left;margin-right: 0.25em;color: #696969;}#sk-container-id-1 label.sk-toggleable__label-arrow:hover:before {color: black;}#sk-container-id-1 div.sk-estimator:hover label.sk-toggleable__label-arrow:before {color: black;}#sk-container-id-1 div.sk-toggleable__content {max-height: 0;max-width: 0;overflow: hidden;text-align: left;background-color: #f0f8ff;}#sk-container-id-1 div.sk-toggleable__content pre {margin: 0.2em;color: black;border-radius: 0.25em;background-color: #f0f8ff;}#sk-container-id-1 input.sk-toggleable__control:checked~div.sk-toggleable__content {max-height: 200px;max-width: 100%;overflow: auto;}#sk-container-id-1 input.sk-toggleable__control:checked~label.sk-toggleable__label-arrow:before {content: \"▾\";}#sk-container-id-1 div.sk-estimator input.sk-toggleable__control:checked~label.sk-toggleable__label {background-color: #d4ebff;}#sk-container-id-1 div.sk-label input.sk-toggleable__control:checked~label.sk-toggleable__label {background-color: #d4ebff;}#sk-container-id-1 input.sk-hidden--visually {border: 0;clip: rect(1px 1px 1px 1px);clip: rect(1px, 1px, 1px, 1px);height: 1px;margin: -1px;overflow: hidden;padding: 0;position: absolute;width: 1px;}#sk-container-id-1 div.sk-estimator {font-family: monospace;background-color: #f0f8ff;border: 1px dotted black;border-radius: 0.25em;box-sizing: border-box;margin-bottom: 0.5em;}#sk-container-id-1 div.sk-estimator:hover {background-color: #d4ebff;}#sk-container-id-1 div.sk-parallel-item::after {content: \"\";width: 100%;border-bottom: 1px solid gray;flex-grow: 1;}#sk-container-id-1 div.sk-label:hover label.sk-toggleable__label {background-color: #d4ebff;}#sk-container-id-1 div.sk-serial::before {content: \"\";position: absolute;border-left: 1px solid gray;box-sizing: border-box;top: 0;bottom: 0;left: 50%;z-index: 0;}#sk-container-id-1 div.sk-serial {display: flex;flex-direction: column;align-items: center;background-color: white;padding-right: 0.2em;padding-left: 0.2em;position: relative;}#sk-container-id-1 div.sk-item {position: relative;z-index: 1;}#sk-container-id-1 div.sk-parallel {display: flex;align-items: stretch;justify-content: center;background-color: white;position: relative;}#sk-container-id-1 div.sk-item::before, #sk-container-id-1 div.sk-parallel-item::before {content: \"\";position: absolute;border-left: 1px solid gray;box-sizing: border-box;top: 0;bottom: 0;left: 50%;z-index: -1;}#sk-container-id-1 div.sk-parallel-item {display: flex;flex-direction: column;z-index: 1;position: relative;background-color: white;}#sk-container-id-1 div.sk-parallel-item:first-child::after {align-self: flex-end;width: 50%;}#sk-container-id-1 div.sk-parallel-item:last-child::after {align-self: flex-start;width: 50%;}#sk-container-id-1 div.sk-parallel-item:only-child::after {width: 0;}#sk-container-id-1 div.sk-dashed-wrapped {border: 1px dashed gray;margin: 0 0.4em 0.5em 0.4em;box-sizing: border-box;padding-bottom: 0.4em;background-color: white;}#sk-container-id-1 div.sk-label label {font-family: monospace;font-weight: bold;display: inline-block;line-height: 1.2em;}#sk-container-id-1 div.sk-label-container {text-align: center;}#sk-container-id-1 div.sk-container {/* jupyter's `normalize.less` sets `[hidden] { display: none; }` but bootstrap.min.css set `[hidden] { display: none !important; }` so we also need the `!important` here to be able to override the default hidden behavior on the sphinx rendered scikit-learn.org. See: https://github.com/scikit-learn/scikit-learn/issues/21755 */display: inline-block !important;position: relative;}#sk-container-id-1 div.sk-text-repr-fallback {display: none;}</style><div id=\"sk-container-id-1\" class=\"sk-top-container\"><div class=\"sk-text-repr-fallback\"><pre>XGBClassifier(base_score=0.5, booster=&#x27;gbtree&#x27;, callbacks=None,\n",
       "              colsample_bylevel=0.8999999999999999, colsample_bynode=1,\n",
       "              colsample_bytree=0.7, early_stopping_rounds=None,\n",
       "              enable_categorical=False, eval_metric=None, gamma=0, gpu_id=-1,\n",
       "              grow_policy=&#x27;depthwise&#x27;, importance_type=None,\n",
       "              interaction_constraints=&#x27;&#x27;, learning_rate=0.1, max_bin=256,\n",
       "              max_cat_to_onehot=4, max_delta_step=0, max_depth=15, max_leaves=0,\n",
       "              min_child_weight=1, missing=nan, monotone_constraints=&#x27;()&#x27;,\n",
       "              n_estimators=100, n_jobs=0, num_class=10, num_parallel_tree=1,\n",
       "              objective=&#x27;multi:softmax&#x27;, predictor=&#x27;auto&#x27;, random_state=0, ...)</pre><b>In a Jupyter environment, please rerun this cell to show the HTML representation or trust the notebook. <br />On GitHub, the HTML representation is unable to render, please try loading this page with nbviewer.org.</b></div><div class=\"sk-container\" hidden><div class=\"sk-item\"><div class=\"sk-estimator sk-toggleable\"><input class=\"sk-toggleable__control sk-hidden--visually\" id=\"sk-estimator-id-1\" type=\"checkbox\" checked><label for=\"sk-estimator-id-1\" class=\"sk-toggleable__label sk-toggleable__label-arrow\">XGBClassifier</label><div class=\"sk-toggleable__content\"><pre>XGBClassifier(base_score=0.5, booster=&#x27;gbtree&#x27;, callbacks=None,\n",
       "              colsample_bylevel=0.8999999999999999, colsample_bynode=1,\n",
       "              colsample_bytree=0.7, early_stopping_rounds=None,\n",
       "              enable_categorical=False, eval_metric=None, gamma=0, gpu_id=-1,\n",
       "              grow_policy=&#x27;depthwise&#x27;, importance_type=None,\n",
       "              interaction_constraints=&#x27;&#x27;, learning_rate=0.1, max_bin=256,\n",
       "              max_cat_to_onehot=4, max_delta_step=0, max_depth=15, max_leaves=0,\n",
       "              min_child_weight=1, missing=nan, monotone_constraints=&#x27;()&#x27;,\n",
       "              n_estimators=100, n_jobs=0, num_class=10, num_parallel_tree=1,\n",
       "              objective=&#x27;multi:softmax&#x27;, predictor=&#x27;auto&#x27;, random_state=0, ...)</pre></div></div></div></div></div>"
      ],
      "text/plain": [
       "XGBClassifier(base_score=0.5, booster='gbtree', callbacks=None,\n",
       "              colsample_bylevel=0.8999999999999999, colsample_bynode=1,\n",
       "              colsample_bytree=0.7, early_stopping_rounds=None,\n",
       "              enable_categorical=False, eval_metric=None, gamma=0, gpu_id=-1,\n",
       "              grow_policy='depthwise', importance_type=None,\n",
       "              interaction_constraints='', learning_rate=0.1, max_bin=256,\n",
       "              max_cat_to_onehot=4, max_delta_step=0, max_depth=15, max_leaves=0,\n",
       "              min_child_weight=1, missing=nan, monotone_constraints='()',\n",
       "              n_estimators=100, n_jobs=0, num_class=10, num_parallel_tree=1,\n",
       "              objective='multi:softmax', predictor='auto', random_state=0, ...)"
      ]
     },
     "execution_count": 29,
     "metadata": {},
     "output_type": "execute_result"
    }
   ],
   "source": [
    "# classifier = XGBClassifier(objective=\"multi:softmax\", tree_method='hist', random_state=0, subsample = 0.7999999999999999, num_class = 10, n_estimators = 100, max_depth = 15, learning_rate = 0.1, colsample_bytree = 0.7, colsample_bylevel = 0.8999999999999999)\n",
    "# # classifier = LogisticRegression(random_state = 0, C = 0.1, penalty = 'l2', solver = 'newton-cg')\n",
    "# # classifier = RandomForestClassifier(random_state = 0, n_estimators=600, min_samples_split=2, min_samples_leaf=1, max_features='sqrt', max_depth=110, bootstrap=True)\n",
    "# # classifier = SVC(C=10, kernel='linear', random_state = 0)\n",
    "# classifier.fit(xb_train_pca, y_train)\n",
    "# classifier"
   ]
  },
  {
   "cell_type": "code",
   "execution_count": null,
   "id": "10737904",
   "metadata": {},
   "outputs": [],
   "source": [
    "classifier_path = 'models\\\\xgb_word.json'\n",
    "\n",
    "classifier = XGBClassifier()\n",
    "classifier.load_model(classifier_path)"
   ]
  },
  {
   "cell_type": "code",
   "execution_count": 30,
   "id": "6e371c9d",
   "metadata": {},
   "outputs": [
    {
     "data": {
      "image/png": "[encoded data removed]",
      "text/plain": [
       "<Figure size 432x288 with 1 Axes>"
      ]
     },
     "metadata": {
      "needs_background": "light"
     },
     "output_type": "display_data"
    }
   ],
   "source": [
    "# Predicting the training set\n",
    "# result through scatter plot \n",
    "from matplotlib.colors import ListedColormap\n",
    "  \n",
    "X_set, y_set = xb_train_pca, y_train[:,0]\n",
    "X1, X2 = np.meshgrid(np.arange(start = X_set[:, 0].min() - 1,\n",
    "                     stop = X_set[:, 0].max() + 1, step = 0.01),\n",
    "                     np.arange(start = X_set[:, 1].min() - 1,\n",
    "                     stop = X_set[:, 1].max() + 1, step = 0.01))\n",
    "  \n",
    "plt.contourf(X1, X2, classifier.predict(np.array([X1.ravel(),\n",
    "             X2.ravel()]).T).reshape(X1.shape), alpha = 0.75,\n",
    "             cmap = ListedColormap(('white', 'aquamarine')))\n",
    "  \n",
    "plt.xlim(X1.min(), X1.max())\n",
    "plt.ylim(X2.min(), X2.max())\n",
    "  \n",
    "for i, j in enumerate(np.unique(y_set)):\n",
    "    plt.scatter(X_set[y_set == j, 0], X_set[y_set == j, 1],\n",
    "                color = ListedColormap(('green', 'blue'))(i), label = j)\n",
    "  \n",
    "plt.title('Model (Training set)')\n",
    "plt.xlabel('PC1') # for Xlabel\n",
    "plt.ylabel('PC2') # for Ylabel\n",
    "plt.legend() # to show legend\n",
    "  \n",
    "# show scatter plot\n",
    "plt.show()"
   ]
  },
  {
   "cell_type": "code",
   "execution_count": 31,
   "id": "fb9f1c2c",
   "metadata": {},
   "outputs": [
    {
     "data": {
      "image/png": "[encoded data removed]",
      "text/plain": [
       "<Figure size 432x288 with 1 Axes>"
      ]
     },
     "metadata": {
      "needs_background": "light"
     },
     "output_type": "display_data"
    }
   ],
   "source": [
    "# Visualising the Test set results through scatter plot\n",
    "from matplotlib.colors import ListedColormap\n",
    "  \n",
    "X_set, y_set = xb_test_pca, y_test[:,0]\n",
    "  \n",
    "X1, X2 = np.meshgrid(np.arange(start = X_set[:, 0].min() - 1,\n",
    "                     stop = X_set[:, 0].max() + 1, step = 0.01),\n",
    "                     np.arange(start = X_set[:, 1].min() - 1,\n",
    "                     stop = X_set[:, 1].max() + 1, step = 0.01))\n",
    "  \n",
    "plt.contourf(X1, X2, classifier.predict(np.array([X1.ravel(),\n",
    "             X2.ravel()]).T).reshape(X1.shape), alpha = 0.75,\n",
    "             cmap = ListedColormap(('white', 'aquamarine',))) \n",
    "  \n",
    "plt.xlim(X1.min(), X1.max())\n",
    "plt.ylim(X2.min(), X2.max())\n",
    "  \n",
    "for i, j in enumerate(np.unique(y_set)):\n",
    "    plt.scatter(X_set[y_set == j, 0], X_set[y_set == j, 1],\n",
    "                color = ListedColormap(('green', 'blue',))(i), label = j)\n",
    "  \n",
    "# title for scatter plot\n",
    "plt.title('Model (Test set)') \n",
    "plt.xlabel('PC1') # for Xlabel\n",
    "plt.ylabel('PC2') # for Ylabel\n",
    "plt.legend()\n",
    "  \n",
    "# show scatter plot\n",
    "plt.show()"
   ]
  },
  {
   "cell_type": "markdown",
   "id": "3aba0886",
   "metadata": {},
   "source": [
    "------------"
   ]
  },
  {
   "cell_type": "markdown",
   "id": "5b476877",
   "metadata": {},
   "source": [
    "### Model verification"
   ]
  },
  {
   "cell_type": "code",
   "execution_count": 32,
   "id": "7bd9bb80",
   "metadata": {},
   "outputs": [],
   "source": [
    "# Functions we will use\n",
    "def transform_audio(audio, FRAMESIZE, HOPLENGTH, MELS, SPLITFREQ):\n",
    "    \n",
    "    audio_array, sr = librosa.load(audio)\n",
    "    ae_audio = fancy_amplitude_envelope(audio_array, FRAMESIZE, HOPLENGTH)\n",
    "    rms_audio = librosa.feature.rms(audio_array, frame_length=FRAMESIZE, hop_length=HOPLENGTH)[0]\n",
    "    mel_audio = librosa.feature.melspectrogram(audio_array, sr=sr, n_fft=FRAMESIZE, hop_length=HOPLENGTH, n_mels=MELS)\n",
    "    log_mel_audio = librosa.power_to_db(mel_audio)[0]\n",
    "    mfccs_audio = librosa.feature.mfcc(y=audio_array, n_mfcc=MELS, sr=sr, n_fft=FRAMESIZE, hop_length=HOPLENGTH)[0]\n",
    "    sc_audio = librosa.feature.spectral_centroid(y=audio_array, sr=sr, n_fft=FRAMESIZE, hop_length=HOPLENGTH)[0]\n",
    "    chromagram_audio = librosa.feature.chroma_stft(audio_array, sr=sr, n_fft=FRAMESIZE, hop_length=HOPLENGTH)[0]\n",
    "    tone_audio = librosa.feature.tonnetz(y=audio_array, sr=sr)[0]\n",
    "    \n",
    "#     return np.hstack((log_mel_audio, mfccs_audio, sc_audio, rms_audio, ae_audio, chromagram_audio, tone_audio))\n",
    "    return np.hstack((mean(log_mel_audio), var(log_mel_audio), mean(mfccs_audio), var(mfccs_audio), mean(sc_audio), var(sc_audio), mean(ae_audio), var(ae_audio), mean(chromagram_audio), var(chromagram_audio), mean(tone_audio), var(tone_audio)))\n",
    "\n",
    "\n",
    "def fancy_amplitude_envelope(signal, framesize, hoplength):\n",
    "    return np.array([max(signal[i:i+framesize]) for i in range(0, len(signal), hoplength)])"
   ]
  },
  {
   "cell_type": "code",
   "execution_count": 33,
   "id": "1e66c6dd",
   "metadata": {},
   "outputs": [
    {
     "data": {
      "text/plain": [
       "[0, 2, 7, 8, 9]"
      ]
     },
     "execution_count": 33,
     "metadata": {},
     "output_type": "execute_result"
    }
   ],
   "source": [
    "x_ver_features = []\n",
    "for x in best_features_big:\n",
    "    x_ver_features.append(int(x.split(' ')[1]))\n",
    "x_ver_features\n",
    "\n",
    "# x_ver_features = []\n",
    "# for x in best_features_small:\n",
    "#     x_ver_features.append(int(x.split(' ')[1]))\n",
    "# x_ver_features"
   ]
  },
  {
   "cell_type": "code",
   "execution_count": 34,
   "id": "3eaee03a",
   "metadata": {},
   "outputs": [],
   "source": [
    "# Functions we will use\n",
    "def transform_audio(audio, FRAMESIZE, HOPLENGTH, MELS, SPLITFREQ):\n",
    "    \n",
    "    audio_array, sr = librosa.load(audio)\n",
    "    ae_audio = fancy_amplitude_envelope(audio_array, FRAMESIZE, HOPLENGTH)\n",
    "    rms_audio = librosa.feature.rms(audio_array, frame_length=FRAMESIZE, hop_length=HOPLENGTH)[0]\n",
    "    mel_audio = librosa.feature.melspectrogram(audio_array, sr=sr, n_fft=FRAMESIZE, hop_length=HOPLENGTH, n_mels=MELS)\n",
    "    log_mel_audio = librosa.power_to_db(mel_audio)[0]\n",
    "    mfccs_audio = librosa.feature.mfcc(y=audio_array, n_mfcc=MELS, sr=sr, n_fft=FRAMESIZE, hop_length=HOPLENGTH)[0]\n",
    "    sc_audio = librosa.feature.spectral_centroid(y=audio_array, sr=sr, n_fft=FRAMESIZE, hop_length=HOPLENGTH)[0]\n",
    "    chromagram_audio = librosa.feature.chroma_stft(audio_array, sr=sr, n_fft=FRAMESIZE, hop_length=HOPLENGTH)[0]\n",
    "    tone_audio = librosa.feature.tonnetz(y=audio_array, sr=sr)[0]\n",
    "    \n",
    "#     return np.hstack((log_mel_audio, mfccs_audio, sc_audio, rms_audio, ae_audio, chromagram_audio, tone_audio))\n",
    "    return np.hstack((mean(log_mel_audio), var(log_mel_audio), mean(mfccs_audio), var(mfccs_audio), mean(sc_audio), var(sc_audio), mean(ae_audio), var(ae_audio), mean(chromagram_audio), var(chromagram_audio), mean(tone_audio), var(tone_audio)))\n",
    "\n",
    "\n",
    "def fancy_amplitude_envelope(signal, framesize, hoplength):\n",
    "    return np.array([max(signal[i:i+framesize]) for i in range(0, len(signal), hoplength)])"
   ]
  },
  {
   "cell_type": "code",
   "execution_count": 35,
   "id": "cf3ed423",
   "metadata": {},
   "outputs": [],
   "source": [
    "def test_classifier(path):\n",
    "    file_paths = f\"A:\\\\Professional\\\\Engineering CU\\\\DSP_Data_Verification\\\\{path}\\\\\"\n",
    "    for file in os.listdir(file_paths):\n",
    "        audio = file_paths+file\n",
    "        x_ver = transform_audio(audio, FRAMESIZE*4, HOPLENGTH*4, MELS, SPLITFREQ) #Big-chunk\n",
    "        print(x_ver.shape)\n",
    "        x_ver = x_ver[x_ver_features]\n",
    "        x_ver = sc.transform(x_ver.reshape(1,-1))\n",
    "        x_ver = pca.transform(x_ver)[0]\n",
    "        \n",
    "        print(file)\n",
    "        print(classifier.predict(np.array([x_ver[0].ravel(), x_ver[1].ravel()]).T).reshape(x_ver[0].shape))"
   ]
  },
  {
   "cell_type": "code",
   "execution_count": 39,
   "id": "d5f557f2",
   "metadata": {},
   "outputs": [
    {
     "name": "stdout",
     "output_type": "stream",
     "text": [
      "(12,)\n",
      "ahmed_otd13.wav\n",
      "1\n",
      "(12,)\n",
      "ahmed_otd2.wav\n",
      "1\n",
      "(12,)\n",
      "maha_otd13.wav\n",
      "1\n",
      "(12,)\n",
      "maha_otd14.wav\n",
      "1\n",
      "(12,)\n",
      "mahmoud_otd10.wav\n",
      "1\n",
      "(12,)\n",
      "mahmoud_otd11.wav\n",
      "1\n",
      "(12,)\n",
      "mahmoud_otd12.wav\n",
      "1\n",
      "(12,)\n",
      "mahmoud_otd13.wav\n",
      "1\n",
      "(12,)\n",
      "mahmoud_otd14.wav\n",
      "1\n",
      "(12,)\n",
      "mahmoud_otd9.wav\n",
      "1\n"
     ]
    }
   ],
   "source": [
    "test_classifier('open the door')"
   ]
  },
  {
   "cell_type": "code",
   "execution_count": 37,
   "id": "9d4e10cb",
   "metadata": {},
   "outputs": [],
   "source": [
    "dest = \"A:\\OpenSesame\\models\\\\\"\n",
    "picklefile = \"xgb_word\"\n",
    "# pickle.dump(classifier,open(dest + picklefile+'.pkl','wb'))\n",
    "classifier.save_model(dest+picklefile+'.json')"
   ]
  },
  {
   "cell_type": "code",
   "execution_count": null,
   "id": "81608933",
   "metadata": {},
   "outputs": [],
   "source": []
  }
 ],
 "metadata": {
  "kernelspec": {
   "display_name": "Python 3",
   "language": "python",
   "name": "python3"
  },
  "language_info": {
   "codemirror_mode": {
    "name": "ipython",
    "version": 3
   },
   "file_extension": ".py",
   "mimetype": "text/x-python",
   "name": "python",
   "nbconvert_exporter": "python",
   "pygments_lexer": "ipython3",
   "version": "3.8.8"
  }
 },
 "nbformat": 4,
 "nbformat_minor": 5
}
