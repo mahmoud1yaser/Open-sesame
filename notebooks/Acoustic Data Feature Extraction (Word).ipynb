{
 "cells": [
  {
   "cell_type": "markdown",
   "id": "17981835",
   "metadata": {},
   "source": [
    "# Acoustic Data Feature Extraction Notebook - Word Modeling"
   ]
  },
  {
   "cell_type": "markdown",
   "id": "ec6445e9",
   "metadata": {},
   "source": [
    "## Import Packages"
   ]
  },
  {
   "cell_type": "code",
   "execution_count": 1,
   "id": "ce693af1",
   "metadata": {},
   "outputs": [],
   "source": [
    "# Audio processing\n",
    "import librosa\n",
    "import librosa.display as ld\n",
    "import IPython.display as ipd\n",
    "# Data cleaning\n",
    "import os\n",
    "import pandas as pd\n",
    "import numpy as np\n",
    "from numpy import mean, var\n",
    "# Data visualization\n",
    "import matplotlib.pyplot as plt\n",
    "import seaborn as sns\n",
    "# Statistics\n",
    "from sklearn.decomposition import PCA\n",
    "from scipy.stats import pearsonr\n",
    "from scipy.stats import spearmanr\n",
    "from sklearn.feature_selection import SelectKBest\n",
    "from sklearn.feature_selection import mutual_info_classif\n",
    "from sklearn.model_selection import train_test_split\n",
    "# Advanced options\n",
    "import warnings\n",
    "from tqdm import tqdm\n",
    "warnings.filterwarnings(\"ignore\")"
   ]
  },
  {
   "cell_type": "markdown",
   "id": "49379446",
   "metadata": {},
   "source": [
    "-----"
   ]
  },
  {
   "cell_type": "markdown",
   "id": "fbac5ea2",
   "metadata": {},
   "source": [
    "-----"
   ]
  },
  {
   "cell_type": "markdown",
   "id": "09338d09",
   "metadata": {},
   "source": [
    "## Define Constants"
   ]
  },
  {
   "cell_type": "code",
   "execution_count": 2,
   "id": "df4ace45",
   "metadata": {},
   "outputs": [],
   "source": [
    "FRAMESIZE = 1024\n",
    "HOPLENGTH = 512\n",
    "# 13 mels for fingerprint and more than 20 mels for word detection\n",
    "MELS = 20 \n",
    "SPLITFREQ = 2000\n",
    "PCA_N = 2"
   ]
  },
  {
   "cell_type": "markdown",
   "id": "56f75f37",
   "metadata": {},
   "source": [
    "-----"
   ]
  },
  {
   "cell_type": "markdown",
   "id": "6b122604",
   "metadata": {},
   "source": [
    "-----"
   ]
  },
  {
   "cell_type": "markdown",
   "id": "6279aeae",
   "metadata": {},
   "source": [
    "## Read Data"
   ]
  },
  {
   "cell_type": "code",
   "execution_count": 3,
   "id": "c9841c9d",
   "metadata": {},
   "outputs": [],
   "source": [
    "# Cluster data for future work\n",
    "opd_data = []\n",
    "others_data = []\n",
    "directory= \"A:\\Professional\\Engineering CU\\DSP_Data_New\"\n",
    "for dir in os.listdir(directory):\n",
    "    if dir == \"open the door\":\n",
    "        for filename in os.listdir(os.path.join(directory, dir)):\n",
    "            path_opd = os.path.join(directory, dir, filename)\n",
    "            opd_data.append(path_opd)\n",
    "    else:\n",
    "        for filename in os.listdir(os.path.join(directory, dir)):\n",
    "            path_others = os.path.join(directory, dir, filename)\n",
    "            others_data.append(path_others)"
   ]
  },
  {
   "cell_type": "code",
   "execution_count": 4,
   "id": "ff7c5843",
   "metadata": {},
   "outputs": [],
   "source": [
    "# Group all the data\n",
    "data = []\n",
    "data.extend(opd_data)\n",
    "data.extend(others_data)"
   ]
  },
  {
   "cell_type": "markdown",
   "id": "61b7160e",
   "metadata": {},
   "source": [
    "-----"
   ]
  },
  {
   "cell_type": "markdown",
   "id": "f6266a4f",
   "metadata": {},
   "source": [
    "-----"
   ]
  },
  {
   "cell_type": "markdown",
   "id": "eab88c1e",
   "metadata": {},
   "source": [
    "## Extract Features"
   ]
  },
  {
   "cell_type": "code",
   "execution_count": 5,
   "id": "beada3be",
   "metadata": {},
   "outputs": [],
   "source": [
    "# Functions we will use\n",
    "def transform_audio(audio, FRAMESIZE, HOPLENGTH, MELS, SPLITFREQ):\n",
    "    \n",
    "    audio_array, sr = librosa.load(audio)\n",
    "    ae_audio = fancy_amplitude_envelope(audio_array, FRAMESIZE, HOPLENGTH)\n",
    "    rms_audio = librosa.feature.rms(audio_array, frame_length=FRAMESIZE, hop_length=HOPLENGTH)[0]\n",
    "    mel_audio = librosa.feature.melspectrogram(audio_array, sr=sr, n_fft=FRAMESIZE, hop_length=HOPLENGTH, n_mels=MELS)\n",
    "    log_mel_audio = librosa.power_to_db(mel_audio)[0]\n",
    "    mfccs_audio = librosa.feature.mfcc(y=audio_array, n_mfcc=MELS, sr=sr, n_fft=FRAMESIZE, hop_length=HOPLENGTH)[0]\n",
    "    sc_audio = librosa.feature.spectral_centroid(y=audio_array, sr=sr, n_fft=FRAMESIZE, hop_length=HOPLENGTH)[0]\n",
    "    chromagram_audio = librosa.feature.chroma_stft(audio_array, sr=sr, n_fft=FRAMESIZE, hop_length=HOPLENGTH)[0]\n",
    "    tone_audio = librosa.feature.tonnetz(y=audio_array, sr=sr)[0]\n",
    "    \n",
    "#     return np.hstack((log_mel_audio, mfccs_audio, sc_audio, rms_audio, ae_audio, chromagram_audio, tone_audio))\n",
    "    return np.hstack((mean(log_mel_audio), var(log_mel_audio), mean(mfccs_audio), var(mfccs_audio), mean(sc_audio), var(sc_audio), mean(ae_audio), var(ae_audio), mean(chromagram_audio), var(chromagram_audio), mean(tone_audio), var(tone_audio)))\n",
    "\n",
    "\n",
    "def fancy_amplitude_envelope(signal, framesize, hoplength):\n",
    "    return np.array([max(signal[i:i+framesize]) for i in range(0, len(signal), hoplength)])"
   ]
  },
  {
   "cell_type": "code",
   "execution_count": 6,
   "id": "690f7fe1",
   "metadata": {},
   "outputs": [],
   "source": [
    "def get_data_features(data, big_chunk='no'):\n",
    "    z = len(data)\n",
    "    if big_chunk == 'yes':\n",
    "        features_length = len(transform_audio(data[0], FRAMESIZE*4, HOPLENGTH*4, MELS, SPLITFREQ))\n",
    "    else:\n",
    "        features_length = len(transform_audio(data[0], FRAMESIZE, HOPLENGTH, MELS, SPLITFREQ))\n",
    "        \n",
    "    # Data Features\n",
    "    df = pd.DataFrame()\n",
    "    df['data'] = data\n",
    "\n",
    "    for i in tqdm(range(features_length)):\n",
    "        df[f'feature {i}'] = np.zeros(z)\n",
    "\n",
    "    temp_array = []\n",
    "    for index, row in tqdm(df.iloc[:].iterrows()):\n",
    "        if index < len(df)-1:\n",
    "            if big_chunk == 'yes':\n",
    "                array_1 = transform_audio(df.loc[index, ['data']][0], FRAMESIZE*4, HOPLENGTH*4, MELS, SPLITFREQ)\n",
    "                array_2 = transform_audio(df.loc[index+1, ['data']][0], FRAMESIZE*4, HOPLENGTH*4, MELS, SPLITFREQ)\n",
    "            else:\n",
    "                array_1 = transform_audio(df.loc[index, ['data']][0], FRAMESIZE, HOPLENGTH, MELS, SPLITFREQ)\n",
    "                array_2 = transform_audio(df.loc[index+1, ['data']][0], FRAMESIZE, HOPLENGTH, MELS, SPLITFREQ)\n",
    "            combined_array = np.vstack((array_1, array_2))[0]\n",
    "            temp_array.append(list(combined_array))\n",
    "\n",
    "    last_element = transform_audio(df.loc[len(df)-1, ['data']][0], FRAMESIZE*4, HOPLENGTH*4, MELS, SPLITFREQ)\n",
    "    temp_array.append(list(last_element))\n",
    "    df.iloc[:,1:] = pd.DataFrame(temp_array).copy()\n",
    "    df.fillna(0, inplace=True)\n",
    "    \n",
    "    return df"
   ]
  },
  {
   "cell_type": "code",
   "execution_count": 7,
   "id": "b04df244",
   "metadata": {},
   "outputs": [
    {
     "name": "stderr",
     "output_type": "stream",
     "text": [
      "100%|█████████████████████████████████████████████████████████████████████████████████| 12/12 [00:00<00:00, 702.85it/s]\n",
      "42it [00:13,  3.00it/s]\n",
      "100%|██████████████████████████████████████████████████████████████████████████████████████████| 12/12 [00:00<?, ?it/s]\n",
      "54it [00:18,  2.99it/s]\n"
     ]
    }
   ],
   "source": [
    "# Big chunk\n",
    "df_big_otd = get_data_features(opd_data, big_chunk='yes')\n",
    "df_big_others = get_data_features(others_data, big_chunk='yes')\n",
    "\n",
    "df_big_otd['password'] = 1\n",
    "df_big_others['password'] = 0\n",
    "\n",
    "# Make whole data dataframe for selecting best features\n",
    "df_big_data = df_big_otd.append(df_big_others, ignore_index = True)"
   ]
  },
  {
   "cell_type": "code",
   "execution_count": 8,
   "id": "ca72bd29",
   "metadata": {},
   "outputs": [
    {
     "name": "stderr",
     "output_type": "stream",
     "text": [
      "100%|█████████████████████████████████████████████████████████████████████████████████| 12/12 [00:00<00:00, 635.75it/s]\n",
      "42it [00:13,  3.11it/s]\n",
      "100%|█████████████████████████████████████████████████████████████████████████████████| 12/12 [00:00<00:00, 905.90it/s]\n",
      "54it [00:17,  3.08it/s]\n"
     ]
    }
   ],
   "source": [
    "# Small chunk\n",
    "df_small_otd = get_data_features(opd_data)\n",
    "df_small_others = get_data_features(others_data)\n",
    "\n",
    "df_small_otd['password'] = 1\n",
    "df_small_others['password'] = 0\n",
    "\n",
    "# Make whole data dataframe for selecting best features\n",
    "df_small_data = df_small_otd.append(df_small_others, ignore_index = True)"
   ]
  },
  {
   "cell_type": "markdown",
   "id": "e2c35a9e",
   "metadata": {},
   "source": [
    "-----"
   ]
  },
  {
   "cell_type": "markdown",
   "id": "12e0f8de",
   "metadata": {},
   "source": [
    "-----"
   ]
  },
  {
   "cell_type": "markdown",
   "id": "e0b24a60",
   "metadata": {},
   "source": [
    "## Feature Engineering"
   ]
  },
  {
   "cell_type": "markdown",
   "id": "ee744640",
   "metadata": {},
   "source": [
    "- Now we will do some feature engineering to improve our features\n",
    "    - We will depend upon Mutual information classification\n",
    "    - After many trials we found that depeding `only` on correlation is useless"
   ]
  },
  {
   "cell_type": "code",
   "execution_count": 9,
   "id": "8ed5dd29",
   "metadata": {},
   "outputs": [
    {
     "data": {
      "text/html": [
       "<div>\n",
       "<style scoped>\n",
       "    .dataframe tbody tr th:only-of-type {\n",
       "        vertical-align: middle;\n",
       "    }\n",
       "\n",
       "    .dataframe tbody tr th {\n",
       "        vertical-align: top;\n",
       "    }\n",
       "\n",
       "    .dataframe thead th {\n",
       "        text-align: right;\n",
       "    }\n",
       "</style>\n",
       "<table border=\"1\" class=\"dataframe\">\n",
       "  <thead>\n",
       "    <tr style=\"text-align: right;\">\n",
       "      <th></th>\n",
       "      <th>feature 0</th>\n",
       "      <th>feature 1</th>\n",
       "      <th>feature 2</th>\n",
       "      <th>feature 3</th>\n",
       "      <th>feature 4</th>\n",
       "      <th>feature 5</th>\n",
       "      <th>feature 6</th>\n",
       "      <th>feature 7</th>\n",
       "      <th>feature 8</th>\n",
       "      <th>feature 9</th>\n",
       "      <th>feature 10</th>\n",
       "      <th>feature 11</th>\n",
       "    </tr>\n",
       "  </thead>\n",
       "  <tbody>\n",
       "    <tr>\n",
       "      <th>0</th>\n",
       "      <td>-27.176701</td>\n",
       "      <td>247.355957</td>\n",
       "      <td>-591.251709</td>\n",
       "      <td>12277.317383</td>\n",
       "      <td>1886.831218</td>\n",
       "      <td>812302.325372</td>\n",
       "      <td>0.027843</td>\n",
       "      <td>0.002087</td>\n",
       "      <td>0.637220</td>\n",
       "      <td>0.090833</td>\n",
       "      <td>-0.014063</td>\n",
       "      <td>0.001900</td>\n",
       "    </tr>\n",
       "    <tr>\n",
       "      <th>1</th>\n",
       "      <td>-31.745686</td>\n",
       "      <td>333.813995</td>\n",
       "      <td>-596.309570</td>\n",
       "      <td>13379.764648</td>\n",
       "      <td>1956.928862</td>\n",
       "      <td>638793.280123</td>\n",
       "      <td>0.033648</td>\n",
       "      <td>0.004332</td>\n",
       "      <td>0.475199</td>\n",
       "      <td>0.105591</td>\n",
       "      <td>0.004940</td>\n",
       "      <td>0.001837</td>\n",
       "    </tr>\n",
       "    <tr>\n",
       "      <th>2</th>\n",
       "      <td>-27.673738</td>\n",
       "      <td>279.615875</td>\n",
       "      <td>-595.602173</td>\n",
       "      <td>11657.736328</td>\n",
       "      <td>1822.757696</td>\n",
       "      <td>569811.932642</td>\n",
       "      <td>0.023385</td>\n",
       "      <td>0.001250</td>\n",
       "      <td>0.515015</td>\n",
       "      <td>0.096196</td>\n",
       "      <td>0.003447</td>\n",
       "      <td>0.003507</td>\n",
       "    </tr>\n",
       "    <tr>\n",
       "      <th>3</th>\n",
       "      <td>-27.113342</td>\n",
       "      <td>337.045288</td>\n",
       "      <td>-546.374390</td>\n",
       "      <td>9220.183594</td>\n",
       "      <td>1813.157956</td>\n",
       "      <td>754177.385738</td>\n",
       "      <td>0.051932</td>\n",
       "      <td>0.020891</td>\n",
       "      <td>0.452060</td>\n",
       "      <td>0.094325</td>\n",
       "      <td>0.002377</td>\n",
       "      <td>0.002053</td>\n",
       "    </tr>\n",
       "    <tr>\n",
       "      <th>4</th>\n",
       "      <td>-27.328915</td>\n",
       "      <td>296.400452</td>\n",
       "      <td>-586.068176</td>\n",
       "      <td>11761.992188</td>\n",
       "      <td>1940.781830</td>\n",
       "      <td>782546.842008</td>\n",
       "      <td>0.023735</td>\n",
       "      <td>0.001037</td>\n",
       "      <td>0.541509</td>\n",
       "      <td>0.086454</td>\n",
       "      <td>0.021529</td>\n",
       "      <td>0.004497</td>\n",
       "    </tr>\n",
       "    <tr>\n",
       "      <th>...</th>\n",
       "      <td>...</td>\n",
       "      <td>...</td>\n",
       "      <td>...</td>\n",
       "      <td>...</td>\n",
       "      <td>...</td>\n",
       "      <td>...</td>\n",
       "      <td>...</td>\n",
       "      <td>...</td>\n",
       "      <td>...</td>\n",
       "      <td>...</td>\n",
       "      <td>...</td>\n",
       "      <td>...</td>\n",
       "    </tr>\n",
       "    <tr>\n",
       "      <th>91</th>\n",
       "      <td>-28.039810</td>\n",
       "      <td>190.256241</td>\n",
       "      <td>-581.987122</td>\n",
       "      <td>10092.810547</td>\n",
       "      <td>1837.557431</td>\n",
       "      <td>526651.443523</td>\n",
       "      <td>0.032975</td>\n",
       "      <td>0.002687</td>\n",
       "      <td>0.389244</td>\n",
       "      <td>0.105017</td>\n",
       "      <td>0.003723</td>\n",
       "      <td>0.014739</td>\n",
       "    </tr>\n",
       "    <tr>\n",
       "      <th>92</th>\n",
       "      <td>-26.050203</td>\n",
       "      <td>174.556595</td>\n",
       "      <td>-580.651855</td>\n",
       "      <td>7988.495605</td>\n",
       "      <td>1674.314646</td>\n",
       "      <td>545260.877902</td>\n",
       "      <td>0.033168</td>\n",
       "      <td>0.002236</td>\n",
       "      <td>0.503347</td>\n",
       "      <td>0.143094</td>\n",
       "      <td>0.041774</td>\n",
       "      <td>0.008323</td>\n",
       "    </tr>\n",
       "    <tr>\n",
       "      <th>93</th>\n",
       "      <td>-27.849642</td>\n",
       "      <td>169.827972</td>\n",
       "      <td>-600.609863</td>\n",
       "      <td>7069.024902</td>\n",
       "      <td>1681.867204</td>\n",
       "      <td>496338.505689</td>\n",
       "      <td>0.024073</td>\n",
       "      <td>0.001499</td>\n",
       "      <td>0.321773</td>\n",
       "      <td>0.082482</td>\n",
       "      <td>0.084603</td>\n",
       "      <td>0.008024</td>\n",
       "    </tr>\n",
       "    <tr>\n",
       "      <th>94</th>\n",
       "      <td>-27.739689</td>\n",
       "      <td>331.523285</td>\n",
       "      <td>-568.336792</td>\n",
       "      <td>13784.242188</td>\n",
       "      <td>1829.838783</td>\n",
       "      <td>783304.313890</td>\n",
       "      <td>0.047651</td>\n",
       "      <td>0.005682</td>\n",
       "      <td>0.534416</td>\n",
       "      <td>0.114092</td>\n",
       "      <td>-0.015299</td>\n",
       "      <td>0.004378</td>\n",
       "    </tr>\n",
       "    <tr>\n",
       "      <th>95</th>\n",
       "      <td>-16.812267</td>\n",
       "      <td>328.730743</td>\n",
       "      <td>-444.807007</td>\n",
       "      <td>16741.351562</td>\n",
       "      <td>2016.820064</td>\n",
       "      <td>701277.312738</td>\n",
       "      <td>0.067760</td>\n",
       "      <td>0.007780</td>\n",
       "      <td>0.452679</td>\n",
       "      <td>0.082776</td>\n",
       "      <td>0.009889</td>\n",
       "      <td>0.003602</td>\n",
       "    </tr>\n",
       "  </tbody>\n",
       "</table>\n",
       "<p>96 rows × 12 columns</p>\n",
       "</div>"
      ],
      "text/plain": [
       "    feature 0   feature 1   feature 2     feature 3    feature 4  \\\n",
       "0  -27.176701  247.355957 -591.251709  12277.317383  1886.831218   \n",
       "1  -31.745686  333.813995 -596.309570  13379.764648  1956.928862   \n",
       "2  -27.673738  279.615875 -595.602173  11657.736328  1822.757696   \n",
       "3  -27.113342  337.045288 -546.374390   9220.183594  1813.157956   \n",
       "4  -27.328915  296.400452 -586.068176  11761.992188  1940.781830   \n",
       "..        ...         ...         ...           ...          ...   \n",
       "91 -28.039810  190.256241 -581.987122  10092.810547  1837.557431   \n",
       "92 -26.050203  174.556595 -580.651855   7988.495605  1674.314646   \n",
       "93 -27.849642  169.827972 -600.609863   7069.024902  1681.867204   \n",
       "94 -27.739689  331.523285 -568.336792  13784.242188  1829.838783   \n",
       "95 -16.812267  328.730743 -444.807007  16741.351562  2016.820064   \n",
       "\n",
       "        feature 5  feature 6  feature 7  feature 8  feature 9  feature 10  \\\n",
       "0   812302.325372   0.027843   0.002087   0.637220   0.090833   -0.014063   \n",
       "1   638793.280123   0.033648   0.004332   0.475199   0.105591    0.004940   \n",
       "2   569811.932642   0.023385   0.001250   0.515015   0.096196    0.003447   \n",
       "3   754177.385738   0.051932   0.020891   0.452060   0.094325    0.002377   \n",
       "4   782546.842008   0.023735   0.001037   0.541509   0.086454    0.021529   \n",
       "..            ...        ...        ...        ...        ...         ...   \n",
       "91  526651.443523   0.032975   0.002687   0.389244   0.105017    0.003723   \n",
       "92  545260.877902   0.033168   0.002236   0.503347   0.143094    0.041774   \n",
       "93  496338.505689   0.024073   0.001499   0.321773   0.082482    0.084603   \n",
       "94  783304.313890   0.047651   0.005682   0.534416   0.114092   -0.015299   \n",
       "95  701277.312738   0.067760   0.007780   0.452679   0.082776    0.009889   \n",
       "\n",
       "    feature 11  \n",
       "0     0.001900  \n",
       "1     0.001837  \n",
       "2     0.003507  \n",
       "3     0.002053  \n",
       "4     0.004497  \n",
       "..         ...  \n",
       "91    0.014739  \n",
       "92    0.008323  \n",
       "93    0.008024  \n",
       "94    0.004378  \n",
       "95    0.003602  \n",
       "\n",
       "[96 rows x 12 columns]"
      ]
     },
     "execution_count": 9,
     "metadata": {},
     "output_type": "execute_result"
    }
   ],
   "source": [
    "df_small_data.iloc[:,1:13]"
   ]
  },
  {
   "cell_type": "code",
   "execution_count": 10,
   "id": "cb49552b",
   "metadata": {},
   "outputs": [
    {
     "data": {
      "text/html": [
       "<div>\n",
       "<style scoped>\n",
       "    .dataframe tbody tr th:only-of-type {\n",
       "        vertical-align: middle;\n",
       "    }\n",
       "\n",
       "    .dataframe tbody tr th {\n",
       "        vertical-align: top;\n",
       "    }\n",
       "\n",
       "    .dataframe thead th {\n",
       "        text-align: right;\n",
       "    }\n",
       "</style>\n",
       "<table border=\"1\" class=\"dataframe\">\n",
       "  <thead>\n",
       "    <tr style=\"text-align: right;\">\n",
       "      <th></th>\n",
       "      <th>feature 0</th>\n",
       "      <th>feature 1</th>\n",
       "      <th>feature 2</th>\n",
       "      <th>feature 3</th>\n",
       "      <th>feature 4</th>\n",
       "      <th>feature 5</th>\n",
       "      <th>feature 6</th>\n",
       "      <th>feature 7</th>\n",
       "      <th>feature 8</th>\n",
       "      <th>feature 9</th>\n",
       "      <th>feature 10</th>\n",
       "      <th>feature 11</th>\n",
       "    </tr>\n",
       "  </thead>\n",
       "  <tbody>\n",
       "    <tr>\n",
       "      <th>0</th>\n",
       "      <td>-13.535290</td>\n",
       "      <td>223.624451</td>\n",
       "      <td>-441.285034</td>\n",
       "      <td>14687.514648</td>\n",
       "      <td>2022.772114</td>\n",
       "      <td>1.146488e+06</td>\n",
       "      <td>0.043756</td>\n",
       "      <td>0.003342</td>\n",
       "      <td>0.524418</td>\n",
       "      <td>0.084185</td>\n",
       "      <td>-0.014063</td>\n",
       "      <td>0.001900</td>\n",
       "    </tr>\n",
       "    <tr>\n",
       "      <th>1</th>\n",
       "      <td>-18.575626</td>\n",
       "      <td>340.839630</td>\n",
       "      <td>-447.589722</td>\n",
       "      <td>16826.134766</td>\n",
       "      <td>1993.755346</td>\n",
       "      <td>5.818932e+05</td>\n",
       "      <td>0.065452</td>\n",
       "      <td>0.010407</td>\n",
       "      <td>0.346460</td>\n",
       "      <td>0.051185</td>\n",
       "      <td>0.004940</td>\n",
       "      <td>0.001837</td>\n",
       "    </tr>\n",
       "    <tr>\n",
       "      <th>2</th>\n",
       "      <td>-14.357706</td>\n",
       "      <td>254.109467</td>\n",
       "      <td>-443.781036</td>\n",
       "      <td>13295.675781</td>\n",
       "      <td>1841.433549</td>\n",
       "      <td>4.840813e+05</td>\n",
       "      <td>0.036475</td>\n",
       "      <td>0.002278</td>\n",
       "      <td>0.421904</td>\n",
       "      <td>0.087743</td>\n",
       "      <td>0.003447</td>\n",
       "      <td>0.003507</td>\n",
       "    </tr>\n",
       "    <tr>\n",
       "      <th>3</th>\n",
       "      <td>-13.499399</td>\n",
       "      <td>346.688873</td>\n",
       "      <td>-434.511139</td>\n",
       "      <td>17937.117188</td>\n",
       "      <td>1802.323680</td>\n",
       "      <td>6.514805e+05</td>\n",
       "      <td>0.110395</td>\n",
       "      <td>0.061947</td>\n",
       "      <td>0.356140</td>\n",
       "      <td>0.058979</td>\n",
       "      <td>0.002377</td>\n",
       "      <td>0.002053</td>\n",
       "    </tr>\n",
       "    <tr>\n",
       "      <th>4</th>\n",
       "      <td>-14.551062</td>\n",
       "      <td>280.300262</td>\n",
       "      <td>-431.716034</td>\n",
       "      <td>14096.180664</td>\n",
       "      <td>2029.046813</td>\n",
       "      <td>6.972431e+05</td>\n",
       "      <td>0.036283</td>\n",
       "      <td>0.001656</td>\n",
       "      <td>0.545310</td>\n",
       "      <td>0.116371</td>\n",
       "      <td>0.021529</td>\n",
       "      <td>0.004497</td>\n",
       "    </tr>\n",
       "    <tr>\n",
       "      <th>...</th>\n",
       "      <td>...</td>\n",
       "      <td>...</td>\n",
       "      <td>...</td>\n",
       "      <td>...</td>\n",
       "      <td>...</td>\n",
       "      <td>...</td>\n",
       "      <td>...</td>\n",
       "      <td>...</td>\n",
       "      <td>...</td>\n",
       "      <td>...</td>\n",
       "      <td>...</td>\n",
       "      <td>...</td>\n",
       "    </tr>\n",
       "    <tr>\n",
       "      <th>91</th>\n",
       "      <td>-14.832839</td>\n",
       "      <td>157.933701</td>\n",
       "      <td>-432.491394</td>\n",
       "      <td>11932.806641</td>\n",
       "      <td>1886.573039</td>\n",
       "      <td>4.437952e+05</td>\n",
       "      <td>0.050703</td>\n",
       "      <td>0.004767</td>\n",
       "      <td>0.302877</td>\n",
       "      <td>0.091452</td>\n",
       "      <td>0.003723</td>\n",
       "      <td>0.014739</td>\n",
       "    </tr>\n",
       "    <tr>\n",
       "      <th>92</th>\n",
       "      <td>-13.022161</td>\n",
       "      <td>139.227219</td>\n",
       "      <td>-429.789917</td>\n",
       "      <td>9169.819336</td>\n",
       "      <td>1737.158088</td>\n",
       "      <td>4.664310e+05</td>\n",
       "      <td>0.049374</td>\n",
       "      <td>0.003613</td>\n",
       "      <td>0.431031</td>\n",
       "      <td>0.118920</td>\n",
       "      <td>0.041774</td>\n",
       "      <td>0.008323</td>\n",
       "    </tr>\n",
       "    <tr>\n",
       "      <th>93</th>\n",
       "      <td>-14.729757</td>\n",
       "      <td>141.964951</td>\n",
       "      <td>-453.278992</td>\n",
       "      <td>8710.605469</td>\n",
       "      <td>1741.683350</td>\n",
       "      <td>4.321974e+05</td>\n",
       "      <td>0.034607</td>\n",
       "      <td>0.002422</td>\n",
       "      <td>0.269358</td>\n",
       "      <td>0.051202</td>\n",
       "      <td>0.084603</td>\n",
       "      <td>0.008024</td>\n",
       "    </tr>\n",
       "    <tr>\n",
       "      <th>94</th>\n",
       "      <td>-14.968060</td>\n",
       "      <td>322.623627</td>\n",
       "      <td>-422.177704</td>\n",
       "      <td>18029.625000</td>\n",
       "      <td>1908.727778</td>\n",
       "      <td>5.711068e+05</td>\n",
       "      <td>0.077326</td>\n",
       "      <td>0.010786</td>\n",
       "      <td>0.473564</td>\n",
       "      <td>0.098640</td>\n",
       "      <td>-0.015299</td>\n",
       "      <td>0.004378</td>\n",
       "    </tr>\n",
       "    <tr>\n",
       "      <th>95</th>\n",
       "      <td>-16.812267</td>\n",
       "      <td>328.730743</td>\n",
       "      <td>-444.807007</td>\n",
       "      <td>16741.351562</td>\n",
       "      <td>2016.820064</td>\n",
       "      <td>7.012773e+05</td>\n",
       "      <td>0.067760</td>\n",
       "      <td>0.007780</td>\n",
       "      <td>0.452679</td>\n",
       "      <td>0.082776</td>\n",
       "      <td>0.009889</td>\n",
       "      <td>0.003602</td>\n",
       "    </tr>\n",
       "  </tbody>\n",
       "</table>\n",
       "<p>96 rows × 12 columns</p>\n",
       "</div>"
      ],
      "text/plain": [
       "    feature 0   feature 1   feature 2     feature 3    feature 4  \\\n",
       "0  -13.535290  223.624451 -441.285034  14687.514648  2022.772114   \n",
       "1  -18.575626  340.839630 -447.589722  16826.134766  1993.755346   \n",
       "2  -14.357706  254.109467 -443.781036  13295.675781  1841.433549   \n",
       "3  -13.499399  346.688873 -434.511139  17937.117188  1802.323680   \n",
       "4  -14.551062  280.300262 -431.716034  14096.180664  2029.046813   \n",
       "..        ...         ...         ...           ...          ...   \n",
       "91 -14.832839  157.933701 -432.491394  11932.806641  1886.573039   \n",
       "92 -13.022161  139.227219 -429.789917   9169.819336  1737.158088   \n",
       "93 -14.729757  141.964951 -453.278992   8710.605469  1741.683350   \n",
       "94 -14.968060  322.623627 -422.177704  18029.625000  1908.727778   \n",
       "95 -16.812267  328.730743 -444.807007  16741.351562  2016.820064   \n",
       "\n",
       "       feature 5  feature 6  feature 7  feature 8  feature 9  feature 10  \\\n",
       "0   1.146488e+06   0.043756   0.003342   0.524418   0.084185   -0.014063   \n",
       "1   5.818932e+05   0.065452   0.010407   0.346460   0.051185    0.004940   \n",
       "2   4.840813e+05   0.036475   0.002278   0.421904   0.087743    0.003447   \n",
       "3   6.514805e+05   0.110395   0.061947   0.356140   0.058979    0.002377   \n",
       "4   6.972431e+05   0.036283   0.001656   0.545310   0.116371    0.021529   \n",
       "..           ...        ...        ...        ...        ...         ...   \n",
       "91  4.437952e+05   0.050703   0.004767   0.302877   0.091452    0.003723   \n",
       "92  4.664310e+05   0.049374   0.003613   0.431031   0.118920    0.041774   \n",
       "93  4.321974e+05   0.034607   0.002422   0.269358   0.051202    0.084603   \n",
       "94  5.711068e+05   0.077326   0.010786   0.473564   0.098640   -0.015299   \n",
       "95  7.012773e+05   0.067760   0.007780   0.452679   0.082776    0.009889   \n",
       "\n",
       "    feature 11  \n",
       "0     0.001900  \n",
       "1     0.001837  \n",
       "2     0.003507  \n",
       "3     0.002053  \n",
       "4     0.004497  \n",
       "..         ...  \n",
       "91    0.014739  \n",
       "92    0.008323  \n",
       "93    0.008024  \n",
       "94    0.004378  \n",
       "95    0.003602  \n",
       "\n",
       "[96 rows x 12 columns]"
      ]
     },
     "execution_count": 10,
     "metadata": {},
     "output_type": "execute_result"
    }
   ],
   "source": [
    "df_big_data.iloc[:,1:13]"
   ]
  },
  {
   "cell_type": "code",
   "execution_count": 11,
   "id": "f2e1b6f9",
   "metadata": {},
   "outputs": [
    {
     "data": {
      "text/plain": [
       "['feature 0', 'feature 2', 'feature 6', 'feature 7', 'feature 9']"
      ]
     },
     "execution_count": 11,
     "metadata": {},
     "output_type": "execute_result"
    }
   ],
   "source": [
    "# Select best 20 features\n",
    "X_train_feat_s, _, y_train_feat_s ,_ = train_test_split(df_small_data.drop(labels=['data', 'password'], axis=1),\n",
    "    df_small_data.iloc[:,13],\n",
    "    test_size=0.3,\n",
    "    random_state=0)\n",
    "\n",
    "mutual_info_classif(X_train_feat_s, y_train_feat_s)\n",
    "\n",
    "sel_cols_s = SelectKBest(mutual_info_classif, k=5)\n",
    "sel_cols_s.fit(X_train_feat_s, y_train_feat_s)\n",
    "best_features_small = list(X_train_feat_s.columns[sel_cols_s.get_support()])\n",
    "best_features_small"
   ]
  },
  {
   "cell_type": "code",
   "execution_count": 12,
   "id": "db4fc4f8",
   "metadata": {},
   "outputs": [
    {
     "data": {
      "text/plain": [
       "['feature 0', 'feature 2', 'feature 7', 'feature 8', 'feature 9']"
      ]
     },
     "execution_count": 12,
     "metadata": {},
     "output_type": "execute_result"
    }
   ],
   "source": [
    "# Select best 20 features\n",
    "X_train_feat_b, _, y_train_feat_b ,_ = train_test_split(df_big_data.drop(labels=['data', 'password'], axis=1),\n",
    "    df_big_data.iloc[:,13],\n",
    "    test_size=0.3,\n",
    "    random_state=0)\n",
    "\n",
    "mutual_info_classif(X_train_feat_b, y_train_feat_b)\n",
    "\n",
    "sel_cols_b = SelectKBest(mutual_info_classif, k=5)\n",
    "sel_cols_b.fit(X_train_feat_b, y_train_feat_b)\n",
    "best_features_big = list(X_train_feat_b.columns[sel_cols_b.get_support()])\n",
    "best_features_big"
   ]
  },
  {
   "cell_type": "code",
   "execution_count": 13,
   "id": "a12dee42",
   "metadata": {},
   "outputs": [],
   "source": [
    "def stat_analysis(df, n):\n",
    "    #-----------------------------------------------------------------------------------------\n",
    "    # Check correlation\n",
    "    corr = df.corr()\n",
    "\n",
    "    # Set up the matplotlib plot configuration\n",
    "    plt.figure(figsize=(35,10))\n",
    "\n",
    "    plt.subplot(1,2,1)\n",
    "\n",
    "    # Generate a mask for upper traingle\n",
    "    mask = np.triu(np.ones_like(corr, dtype=bool))\n",
    "\n",
    "    # Configure a custom diverging colormap\n",
    "    cmap = sns.diverging_palette(230, 20, as_cmap=True)\n",
    "\n",
    "    # Draw the heatmap\n",
    "    plt.title('Correlation')\n",
    "    sns.heatmap(corr, annot=True, mask = mask, cmap=cmap)\n",
    "\n",
    "\n",
    "    #-----------------------------------------------------------------------------------------\n",
    "    # Perform PCA to make dimensionality reduction \n",
    "    pca = PCA()\n",
    "\n",
    "    # Fit the standardized data to the pca\n",
    "    pca=pca.fit(df)\n",
    "\n",
    "    # Plot the proportion of variance explained on the y-axis of the bar plot\n",
    "    # Set up the matplotlib plot configuration    \n",
    "    plt.subplot(1,2,2)\n",
    "    plt.title('PCA')    \n",
    "    plt.bar(range(1, pca.n_components_ + 1),  pca.explained_variance_ratio_)\n",
    "    plt.xlabel('Principal component #')\n",
    "    plt.ylabel('Proportion of variance explained')\n",
    "    plt.xticks(range(df.shape[1]))\n",
    "\n",
    "    two_first_comp_var_exp = pca.explained_variance_ratio_.cumsum()[n]\n",
    "    print(\"The cumulative variance of the first 2 principal components is {}\".format(\n",
    "    round(two_first_comp_var_exp, 5)))"
   ]
  },
  {
   "cell_type": "code",
   "execution_count": 14,
   "id": "e1719492",
   "metadata": {},
   "outputs": [
    {
     "name": "stdout",
     "output_type": "stream",
     "text": [
      "The cumulative variance of the first 2 principal components is 1.0\n"
     ]
    },
    {
     "data": {
      "image/png": "[encoded data removed]",
      "text/plain": [
       "<Figure size 2520x720 with 3 Axes>"
      ]
     },
     "metadata": {
      "needs_background": "light"
     },
     "output_type": "display_data"
    }
   ],
   "source": [
    "stat_analysis(df_big_data[best_features_big].iloc[:,:], 2)"
   ]
  },
  {
   "cell_type": "code",
   "execution_count": 15,
   "id": "f8f9cda5",
   "metadata": {},
   "outputs": [
    {
     "name": "stdout",
     "output_type": "stream",
     "text": [
      "The cumulative variance of the first 2 principal components is 1.0\n"
     ]
    },
    {
     "data": {
      "image/png": "[encoded data removed]",
      "text/plain": [
       "<Figure size 2520x720 with 3 Axes>"
      ]
     },
     "metadata": {
      "needs_background": "light"
     },
     "output_type": "display_data"
    }
   ],
   "source": [
    "stat_analysis(df_small_data[best_features_small].iloc[:,:], 2)"
   ]
  },
  {
   "cell_type": "markdown",
   "id": "ad391d22",
   "metadata": {},
   "source": [
    "- We notice that we can retrieve most of our data's information at 2 pca components"
   ]
  },
  {
   "cell_type": "markdown",
   "id": "a7d727d2",
   "metadata": {},
   "source": [
    "-----"
   ]
  },
  {
   "cell_type": "markdown",
   "id": "6bc8be28",
   "metadata": {},
   "source": [
    "-----"
   ]
  },
  {
   "cell_type": "markdown",
   "id": "22e520b8",
   "metadata": {},
   "source": [
    "## Save Data"
   ]
  },
  {
   "cell_type": "code",
   "execution_count": 16,
   "id": "bc102214",
   "metadata": {},
   "outputs": [],
   "source": [
    "depended_features_small = np.savetxt(\"A:\\OpenSesame\\data\\\\word_features_small.csv\", best_features_small, delimiter =\", \", fmt ='% s')\n",
    "depended_features_big = np.savetxt(\"A:\\OpenSesame\\\\data\\\\word_features_big.csv\", best_features_big, delimiter =\", \", fmt ='% s')"
   ]
  },
  {
   "cell_type": "code",
   "execution_count": 17,
   "id": "50e40036",
   "metadata": {},
   "outputs": [],
   "source": [
    "df_big_data[best_features_big].to_csv('A:\\OpenSesame\\data\\\\big_chunk_word.csv', index=False)\n",
    "df_small_data[best_features_small].to_csv('A:\\OpenSesame\\data\\\\small_chunk_word.csv', index=False)\n",
    "df_big_data['password'].to_csv('A:\\OpenSesame\\data\\\\target_data_word.csv', index=False)"
   ]
  },
  {
   "cell_type": "markdown",
   "id": "86a66b5f",
   "metadata": {},
   "source": [
    "After exporting our data lets go for our model building notebook."
   ]
  },
  {
   "cell_type": "code",
   "execution_count": null,
   "id": "9809d5f2",
   "metadata": {},
   "outputs": [],
   "source": []
  }
 ],
 "metadata": {
  "kernelspec": {
   "display_name": "Python 3",
   "language": "python",
   "name": "python3"
  },
  "language_info": {
   "codemirror_mode": {
    "name": "ipython",
    "version": 3
   },
   "file_extension": ".py",
   "mimetype": "text/x-python",
   "name": "python",
   "nbconvert_exporter": "python",
   "pygments_lexer": "ipython3",
   "version": "3.8.8"
  }
 },
 "nbformat": 4,
 "nbformat_minor": 5
}
